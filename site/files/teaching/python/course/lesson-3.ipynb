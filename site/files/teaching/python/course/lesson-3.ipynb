{
 "cells": [
  {
   "cell_type": "markdown",
   "metadata": {
    "collapsed": true,
    "pycharm": {
     "name": "#%% md\n"
    }
   },
   "source": [
    "# Importing Modules\n",
    "\n",
    "This lesson covers:\n",
    "\n",
    "* Module import"
   ]
  },
  {
   "cell_type": "markdown",
   "metadata": {
    "collapsed": false
   },
   "source": [
    "## Problem: Importing Modules\n",
    "\n",
    "Python is a general-purpose programming language and is not specialized for\n",
    "numerical or statistical computation. The core modules that enable Python to\n",
    "store and access data efficiently and that provide statistical algorithms are\n",
    "located in modules.  The most important are:\n",
    "\n",
    "* NumPy (`numpy`) - provide the basic array block used throughout numerical\n",
    "  Python\n",
    "* pandas (`pandas`) - provides DataFrames which are used to store \n",
    "  data in an easy-to-use format\n",
    "* SciPy (`scipy`) - Basic statistics and random number generators. The most\n",
    "  important submodule is `scipy.stats`\n",
    "* matplotlib (`matplotlib`) - graphics. The most important submodule is\n",
    "  `matplotlib.pyplot`.\n",
    "* statsmodels (`statsmodels`) - statistical models such as OLS. The most\n",
    "  important submodules are `statsmodels.api` and `statsmodels.tsa.api`.\n",
    "\n",
    "Begin by importing the important modules."
   ]
  },
  {
   "cell_type": "code",
   "execution_count": null,
   "metadata": {},
   "outputs": [],
   "source": []
  },
  {
   "cell_type": "markdown",
   "metadata": {
    "collapsed": false
   },
   "source": [
    "## Problem: Canonical Names\n",
    "\n",
    "Use the `as` keyword to import the modules using their canonical names:\n",
    "\n",
    "| Module              | Canonical Name |\n",
    "| :------------------ | :------------- |\n",
    "| numpy               | np             |\n",
    "| pandas              | pd             |\n",
    "| scipy               | sp             |\n",
    "| scipy.stats         | stats          |\n",
    "| matplotlib.pyplot   | plt            |\n",
    "| statsmodels.api     | sm             |\n",
    "| statsmodels.tsa.api | tsa            |\n",
    "\n",
    "Import the core modules using `import` _module_ `as` _canonical_."
   ]
  },
  {
   "cell_type": "code",
   "execution_count": null,
   "metadata": {},
   "outputs": [],
   "source": []
  },
  {
   "cell_type": "markdown",
   "metadata": {
    "collapsed": false
   },
   "source": [
    "## Problem: Importing individual functions\n",
    "\n",
    "1. Import `array`, `sqrt`, `log` and `exp` from NumPy.\n",
    "2. Import `OLS` from `statsmodels.regression.linear_model`\n",
    "3. Import the `stats` module from `scipy`"
   ]
  },
  {
   "cell_type": "code",
   "execution_count": null,
   "metadata": {},
   "outputs": [],
   "source": []
  },
  {
   "cell_type": "markdown",
   "metadata": {
    "collapsed": false,
    "pycharm": {
     "name": "#%% md\n"
    }
   },
   "source": [
    "## Exercises\n",
    "\n",
    "### Exercise: Import `det`\n",
    "\n",
    "The determinant function is located at `numpy.linalg.det`. Access this function\n",
    "using:\n",
    "\n",
    "1. `numpy`\n",
    "2. `np`\n",
    "3. By importing `linalg` from `numpy` and accessing it from `linalg`\n",
    "4. By directly importing the function\n",
    "\n",
    "You can `x` in the setup code to call the function as _func_`(x)`."
   ]
  },
  {
   "cell_type": "code",
   "execution_count": null,
   "metadata": {
    "pycharm": {
     "is_executing": false,
     "name": "#%%\n"
    }
   },
   "outputs": [],
   "source": [
    "# Setup: A simple 2 by 2 array to use with det\n",
    "import numpy as np\n",
    "x = np.array([[2,3],[1,2]])\n",
    "print(x)"
   ]
  },
  {
   "cell_type": "code",
   "execution_count": null,
   "metadata": {},
   "outputs": [],
   "source": []
  },
  {
   "cell_type": "code",
   "execution_count": null,
   "metadata": {},
   "outputs": [],
   "source": []
  },
  {
   "cell_type": "code",
   "execution_count": null,
   "metadata": {},
   "outputs": [],
   "source": []
  },
  {
   "cell_type": "code",
   "execution_count": null,
   "metadata": {},
   "outputs": [],
   "source": []
  }
 ],
 "metadata": {
  "kernelspec": {
   "display_name": "Python 3",
   "language": "python",
   "name": "python3"
  },
  "language_info": {
   "codemirror_mode": {
    "name": "ipython",
    "version": 3
   },
   "file_extension": ".py",
   "mimetype": "text/x-python",
   "name": "python",
   "nbconvert_exporter": "python",
   "pygments_lexer": "ipython3",
   "version": "3.7.4"
  },
  "pycharm": {
   "stem_cell": {
    "cell_type": "raw",
    "metadata": {
     "collapsed": false
    },
    "source": []
   }
  }
 },
 "nbformat": 4,
 "nbformat_minor": 0
}
