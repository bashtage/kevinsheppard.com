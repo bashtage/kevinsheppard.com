{
 "cells": [
  {
   "cell_type": "markdown",
   "metadata": {
    "collapsed": true,
    "pycharm": {
     "name": "#%% md\n"
    }
   },
   "source": [
    "# Conditional Statements\n",
    "\n",
    "* `if`-`elif`-`else` blocks"
   ]
  },
  {
   "cell_type": "markdown",
   "metadata": {
    "collapsed": false,
    "pycharm": {
     "name": "#%% md\n"
    }
   },
   "source": [
    "## Problem: Print value if negative\n",
    "\n",
    "Draw a standard normal value using `np.random.standard_normal` and print the\n",
    "value if it is negative.\n",
    "\n",
    "**Note**: Rerun the cell a few time to see different output."
   ]
  },
  {
   "cell_type": "code",
   "execution_count": null,
   "metadata": {},
   "outputs": [],
   "source": []
  },
  {
   "cell_type": "markdown",
   "metadata": {
    "collapsed": false,
    "pycharm": {
     "name": "#%% md\n"
    }
   },
   "source": [
    "## Problem: Print different messages based on value\n",
    "\n",
    "Draw a standard normal value and print \"Positive\" if it is positive\n",
    "and \"Negative\" if not."
   ]
  },
  {
   "cell_type": "code",
   "execution_count": null,
   "metadata": {},
   "outputs": [],
   "source": []
  },
  {
   "cell_type": "markdown",
   "metadata": {
    "collapsed": false,
    "pycharm": {
     "name": "#%% md\n"
    }
   },
   "source": [
    "## Problem: \n",
    "\n",
    "Draw a standard t random variable with 2 degrees of freedom using\n",
    "`np.random.standard_t(2)` and print \"Negative Outlier\" if less than -2,\n",
    "\"Positive Outlier\" if larger than 2, and \"Inlier\" if between -2 and 2."
   ]
  },
  {
   "cell_type": "code",
   "execution_count": null,
   "metadata": {},
   "outputs": [],
   "source": []
  },
  {
   "cell_type": "markdown",
   "metadata": {
    "collapsed": false
   },
   "source": [
    "## Exercises\n",
    "\n",
    "### Exercise: Classify two points\n",
    "\n",
    "Generate two standard normal values `x` and `y` using\n",
    "two calls to `rs.standard_normal()`. Use an `if`-`elif`-`else` \n",
    "clause to print the quadrant they are in.  The four quadrants are\n",
    "upper right, upper left, lower left and lower right.\n"
   ]
  },
  {
   "cell_type": "code",
   "execution_count": null,
   "metadata": {},
   "outputs": [],
   "source": []
  },
  {
   "cell_type": "code",
   "execution_count": null,
   "metadata": {},
   "outputs": [],
   "source": []
  },
  {
   "cell_type": "code",
   "execution_count": null,
   "metadata": {},
   "outputs": [],
   "source": []
  },
  {
   "cell_type": "markdown",
   "metadata": {
    "collapsed": false
   },
   "source": [
    "### Exercise: Generate a contaminated normal\n",
    "\n",
    "Generate a uniform using `u = rs.sample()`. Using this value and an \n",
    "`if`-`else` clause, generate a contaminated normal which is a draw from a\n",
    "$N(0,1)$ ($N(\\mu,sigma^2)$) if $u<0.95$ or a draw from a $N(0,10)$ otherwise.\n",
    "Use `rs.normal` to generate the normal variable."
   ]
  },
  {
   "cell_type": "code",
   "execution_count": null,
   "metadata": {},
   "outputs": [],
   "source": []
  }
 ],
 "metadata": {
  "kernelspec": {
   "display_name": "Python 3",
   "language": "python",
   "name": "python3"
  },
  "language_info": {
   "codemirror_mode": {
    "name": "ipython",
    "version": 3
   },
   "file_extension": ".py",
   "mimetype": "text/x-python",
   "name": "python",
   "nbconvert_exporter": "python",
   "pygments_lexer": "ipython3",
   "version": "3.7.4"
  },
  "pycharm": {
   "stem_cell": {
    "cell_type": "raw",
    "metadata": {
     "collapsed": false
    },
    "source": []
   }
  }
 },
 "nbformat": 4,
 "nbformat_minor": 0
}
