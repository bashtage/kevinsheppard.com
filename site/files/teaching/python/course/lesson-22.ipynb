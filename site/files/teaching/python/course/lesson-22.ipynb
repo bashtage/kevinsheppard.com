{
 "cells": [
  {
   "cell_type": "markdown",
   "metadata": {
    "collapsed": false
   },
   "source": [
    "# Graphics: Other Plots\n",
    "\n",
    "This lesson covers:\n",
    "\n",
    "* Histograms \n",
    "* Scatter Plots"
   ]
  },
  {
   "cell_type": "markdown",
   "metadata": {
    "collapsed": false
   },
   "source": [
    "Plotting in notebooks requires using a magic command, which starts with `%`,\n",
    "to initialize the plotting backend."
   ]
  },
  {
   "cell_type": "code",
   "execution_count": null,
   "metadata": {
    "pycharm": {
     "is_executing": false,
     "name": "#%%\n"
    }
   },
   "outputs": [],
   "source": [
    "# Setup\n",
    "%matplotlib inline"
   ]
  },
  {
   "cell_type": "markdown",
   "metadata": {
    "collapsed": false
   },
   "source": [
    "Begin by loading the data in hf.h5. This data set contains high-frequency\n",
    "price data for IBM and MSFT on a single day stored as two Series. IBM is\n",
    "stored as \"IBM\" in the HDF file, and MSFT is stored as \"MSFT."
   ]
  },
  {
   "cell_type": "code",
   "execution_count": null,
   "metadata": {},
   "outputs": [],
   "source": []
  },
  {
   "cell_type": "markdown",
   "metadata": {
    "collapsed": false
   },
   "source": [
    "## Problem: Histogram\n",
    "\n",
    "Produce a histogram of MSFT 1-minute returns (Hint: you have to produce\n",
    "the 1-minute Microsoft returns first using `resample` and `pct_change`)."
   ]
  },
  {
   "cell_type": "code",
   "execution_count": null,
   "metadata": {},
   "outputs": [],
   "source": []
  },
  {
   "cell_type": "markdown",
   "metadata": {
    "collapsed": false
   },
   "source": [
    "## Problem: Scatter Plot\n",
    "\n",
    "Scatter the 5-minute MSFT returns against the 5-minute IBM returns.\n",
    "\n",
    "*Hint*: You will need to create both 5-minute return series, merge them,\n",
    "and then plot using the combined DataFrame. "
   ]
  },
  {
   "cell_type": "code",
   "execution_count": null,
   "metadata": {},
   "outputs": [],
   "source": []
  },
  {
   "cell_type": "markdown",
   "metadata": {
    "collapsed": false,
    "pycharm": {
     "name": "#%% md\n"
    }
   },
   "source": [
    "## Problem: Saving plots\n",
    "\n",
    "Save the previous plot to PNG and PDF."
   ]
  },
  {
   "cell_type": "code",
   "execution_count": null,
   "metadata": {},
   "outputs": [],
   "source": []
  },
  {
   "cell_type": "markdown",
   "metadata": {
    "collapsed": false,
    "pycharm": {
     "name": "#%% md\n"
    }
   },
   "source": [
    "## Exercises\n",
    "\n",
    "### Exercise: Visualize 5 and 10 minute returns\n",
    "\n",
    "Produce a 2 by 1 subplot with a histogram of the 5-minute returns of IBM in the\n",
    "top panel and 10-minute returns of IBM in the bottom. Set an appropriate title on\n",
    "each of the 2 plots."
   ]
  },
  {
   "cell_type": "code",
   "execution_count": null,
   "metadata": {},
   "outputs": [],
   "source": []
  },
  {
   "cell_type": "markdown",
   "metadata": {
    "collapsed": false,
    "pycharm": {
     "name": "#%% md\n"
    }
   },
   "source": [
    "### Exercise: Export the result of the previous exercise to JPEG and PDF   \n"
   ]
  },
  {
   "cell_type": "code",
   "execution_count": null,
   "metadata": {},
   "outputs": [],
   "source": []
  },
  {
   "cell_type": "markdown",
   "metadata": {
    "collapsed": false,
    "pycharm": {
     "name": "#%% md\n"
    }
   },
   "source": [
    "## Exercise: Plot histograms and a scatter plot\n",
    "\n",
    "Produce a 2 by 2 subplot with:\n",
    "\n",
    "* Create a square figure with a size of 10 by 10 using `plt.rc`\n",
    "* Histograms of IBM and MSFT on the diagonals\n",
    "* Scatter plots on the off-diagonals where the x and y line up with the\n",
    "  histogram on the diagonal.\n",
    "* Set the limits of the scatter plots to match the appropriate histogram\n",
    "  x and y limit.\n",
    "* Clean up the plot using `tight_layout`"
   ]
  },
  {
   "cell_type": "code",
   "execution_count": null,
   "metadata": {},
   "outputs": [],
   "source": []
  },
  {
   "cell_type": "markdown",
   "metadata": {
    "collapsed": false,
    "pycharm": {
     "name": "#%% md\n"
    }
   },
   "source": [
    "### Exercise: Use pandas plotting tools\n",
    "\n",
    "Use `pandas.plotting.scatter_matrix` to produce a similar plot to the previous exercise."
   ]
  },
  {
   "cell_type": "code",
   "execution_count": null,
   "metadata": {},
   "outputs": [],
   "source": []
  }
 ],
 "metadata": {
  "kernelspec": {
   "display_name": "Python 3",
   "language": "python",
   "name": "python3"
  },
  "language_info": {
   "codemirror_mode": {
    "name": "ipython",
    "version": 3
   },
   "file_extension": ".py",
   "mimetype": "text/x-python",
   "name": "python",
   "nbconvert_exporter": "python",
   "pygments_lexer": "ipython3",
   "version": "3.7.4"
  },
  "pycharm": {
   "stem_cell": {
    "cell_type": "raw",
    "metadata": {
     "collapsed": false
    },
    "source": []
   }
  }
 },
 "nbformat": 4,
 "nbformat_minor": 0
}
