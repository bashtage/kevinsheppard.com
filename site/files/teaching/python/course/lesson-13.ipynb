{
 "cells": [
  {
   "cell_type": "markdown",
   "metadata": {
    "pycharm": {
     "name": "#%% md\n"
    }
   },
   "source": [
    "# Saving and Exporting Data\n",
    "\n",
    "This lesson covers:\n",
    "\n",
    "* Saving and reloading data"
   ]
  },
  {
   "cell_type": "markdown",
   "metadata": {},
   "source": [
    "## Problem: Reading in data with Dates\n",
    "\n",
    "Read in the files `GS10.csv` and `GS10.xlsx` which have both been downloaded from\n",
    "[FRED](https://fred.stlouisfed.org/)."
   ]
  },
  {
   "cell_type": "code",
   "execution_count": null,
   "metadata": {
    "pycharm": {
     "is_executing": false,
     "name": "#%%\n"
    }
   },
   "outputs": [],
   "source": [
    "# Setup: Load the data to use later\n",
    "import pandas as pd\n",
    "\n",
    "gs10_csv = pd.read_csv('data/GS10.csv', index_col='DATE', parse_dates=True)\n",
    "gs10_excel = pd.read_excel('data/GS10.xls', skiprows=10, index_col='observation_date')\n"
   ]
  },
  {
   "cell_type": "markdown",
   "metadata": {
    "pycharm": {
     "name": "#%% md\n"
    }
   },
   "source": [
    "## Problem: Export to Excel, CSV, HDF, and Pickle.\n",
    "\n",
    "Export both `gs10_excel` and `gs10_csv` to the same Excel file"
   ]
  },
  {
   "cell_type": "code",
   "execution_count": null,
   "metadata": {},
   "outputs": [],
   "source": []
  },
  {
   "cell_type": "markdown",
   "metadata": {
    "collapsed": false
   },
   "source": [
    "## Problem: Export to CSV\n",
    "\n",
    "Export `gs10_excel` to CSV. "
   ]
  },
  {
   "cell_type": "code",
   "execution_count": null,
   "metadata": {},
   "outputs": [],
   "source": []
  },
  {
   "cell_type": "markdown",
   "metadata": {
    "collapsed": false
   },
   "source": [
    "## Problem: Export to HDF\n",
    "\n",
    "Export both to an HDF file (the closest thing to a \"native\" format in pandas)"
   ]
  },
  {
   "cell_type": "code",
   "execution_count": null,
   "metadata": {},
   "outputs": [],
   "source": []
  },
  {
   "cell_type": "markdown",
   "metadata": {
    "collapsed": false
   },
   "source": [
    "## Problem: Export to Pickle\n",
    "\n",
    "1. Export `gs10_excel` to a pickle file.\n",
    "2. Combine `gs10_excel` and `gs10_csv` into a dictionary and pickle the dictionary."
   ]
  },
  {
   "cell_type": "code",
   "execution_count": null,
   "metadata": {},
   "outputs": [],
   "source": []
  },
  {
   "cell_type": "code",
   "execution_count": null,
   "metadata": {},
   "outputs": [],
   "source": []
  },
  {
   "cell_type": "markdown",
   "metadata": {},
   "source": [
    "## Problem: Import from HDF and Pickle.\n",
    "\n",
    "Import the data saved in steps 3-5 of the previous problem."
   ]
  },
  {
   "cell_type": "code",
   "execution_count": null,
   "metadata": {},
   "outputs": [],
   "source": []
  }
 ],
 "metadata": {
  "kernelspec": {
   "display_name": "Python 3",
   "language": "python",
   "name": "python3"
  },
  "language_info": {
   "codemirror_mode": {
    "name": "ipython",
    "version": 3
   },
   "file_extension": ".py",
   "mimetype": "text/x-python",
   "name": "python",
   "nbconvert_exporter": "python",
   "pygments_lexer": "ipython3",
   "version": "3.7.4"
  },
  "nikola": {
   "category": "teaching",
   "date": "2019-09-04 17:18:32 UTC+01:00",
   "description": "",
   "link": "",
   "slug": "lesson-13",
   "tags": "",
   "title": "Lesson 13",
   "type": "text"
  },
  "pycharm": {
   "stem_cell": {
    "cell_type": "raw",
    "metadata": {
     "collapsed": false
    },
    "source": []
   }
  }
 },
 "nbformat": 4,
 "nbformat_minor": 1
}
