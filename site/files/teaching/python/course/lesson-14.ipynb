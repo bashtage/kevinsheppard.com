{
 "cells": [
  {
   "cell_type": "markdown",
   "metadata": {
    "collapsed": false
   },
   "source": [
    "# Logical Operators\n",
    "\n",
    "This lesson covers:\n",
    "\n",
    "* Basic logical operators \n",
    "* Compound operators \n"
   ]
  },
  {
   "cell_type": "code",
   "execution_count": null,
   "metadata": {
    "pycharm": {
     "is_executing": false,
     "name": "#%%\n"
    }
   },
   "outputs": [],
   "source": [
    "# Setup: Reproducible random numbers\n",
    "\n",
    "import numpy as np\n",
    "rs = np.random.RandomState(20000101)\n"
   ]
  },
  {
   "cell_type": "markdown",
   "metadata": {
    "collapsed": false
   },
   "source": [
    "## Problem: Basic Logical Statements\n",
    "\n",
    "Create the variables (in order)\n",
    "\n",
    "* `x` as `rs.random_sample()`, a uniform on $[0, 1)$\n",
    "* `y` as `rs.standard_normal()`, a standard normal ($N(0,1)$)\n",
    "* `z` as `rs.randint(1, 11)`, a uniform random integer on $[1, 2,\\ldots, 10]$\n",
    "\n",
    "Check whether each of these are above their expected value."
   ]
  },
  {
   "cell_type": "code",
   "execution_count": null,
   "metadata": {},
   "outputs": [],
   "source": []
  },
  {
   "cell_type": "code",
   "execution_count": null,
   "metadata": {},
   "outputs": [],
   "source": []
  },
  {
   "cell_type": "markdown",
   "metadata": {
    "collapsed": false,
    "pycharm": {
     "name": "#%% md\n"
    }
   },
   "source": [
    "## Problem: Using comparison operators\n",
    "\n",
    "1. Check if `z` is 7\n",
    "2. Check is `z` is not 5\n",
    "3. Check if `z` is greater than or equal to 9"
   ]
  },
  {
   "cell_type": "code",
   "execution_count": null,
   "metadata": {},
   "outputs": [],
   "source": []
  },
  {
   "cell_type": "markdown",
   "metadata": {
    "collapsed": false,
    "pycharm": {
     "is_executing": false,
     "name": "#%% md\n"
    }
   },
   "source": [
    "## Problem: Combining booleans \n",
    "\n",
    "1. Determine if $2\\leq z < 8$\n",
    "2. Determine if $z < 2 \\cup z \\geq 8$ using `or`\n",
    "3. Rewrite 2 using `not` and your result from 1."
   ]
  },
  {
   "cell_type": "code",
   "execution_count": null,
   "metadata": {},
   "outputs": [],
   "source": []
  },
  {
   "cell_type": "markdown",
   "metadata": {
    "collapsed": false,
    "pycharm": {
     "name": "#%% md\n"
    }
   },
   "source": [
    "## Exercises"
   ]
  },
  {
   "cell_type": "code",
   "execution_count": null,
   "metadata": {
    "pycharm": {
     "is_executing": false,
     "name": "#%%\n"
    }
   },
   "outputs": [],
   "source": [
    "# Setup: Data for Exercise\n",
    "import numpy as np\n",
    "rs = np.random.RandomState(19991213)\n",
    "\n",
    "# Like range, lower included, upper excluded\n",
    "# u in (0, 1, 2, ..., 5)\n",
    "u = rs.randint(0, 6) \n",
    "# v in (-2, -1, 0, 1, 2)\n",
    "v = rs.randint(-2, 3) "
   ]
  },
  {
   "cell_type": "code",
   "execution_count": null,
   "metadata": {},
   "outputs": [],
   "source": []
  },
  {
   "cell_type": "markdown",
   "metadata": {
    "collapsed": false,
    "pycharm": {
     "name": "#%% md\n"
    }
   },
   "source": [
    "### Exercise\n",
    "Is the product $uv$ 0 and only one of $u$ and $v$ is 0?"
   ]
  },
  {
   "cell_type": "code",
   "execution_count": null,
   "metadata": {},
   "outputs": [],
   "source": []
  },
  {
   "cell_type": "code",
   "execution_count": null,
   "metadata": {},
   "outputs": [],
   "source": []
  },
  {
   "cell_type": "markdown",
   "metadata": {
    "collapsed": false
   },
   "source": [
    "### Exercise\n",
    "\n",
    "Write three logical statements that will determine if $0\\leq u \\leq 2$ and $0\\leq v \\leq 2$. "
   ]
  },
  {
   "cell_type": "code",
   "execution_count": null,
   "metadata": {},
   "outputs": [],
   "source": []
  },
  {
   "cell_type": "code",
   "execution_count": null,
   "metadata": {},
   "outputs": [],
   "source": []
  },
  {
   "cell_type": "code",
   "execution_count": null,
   "metadata": {},
   "outputs": [],
   "source": []
  }
 ],
 "metadata": {
  "kernelspec": {
   "display_name": "Python 3",
   "language": "python",
   "name": "python3"
  },
  "language_info": {
   "codemirror_mode": {
    "name": "ipython",
    "version": 3
   },
   "file_extension": ".py",
   "mimetype": "text/x-python",
   "name": "python",
   "nbconvert_exporter": "python",
   "pygments_lexer": "ipython3",
   "version": "3.7.4"
  },
  "pycharm": {
   "stem_cell": {
    "cell_type": "raw",
    "metadata": {
     "collapsed": false
    },
    "source": []
   }
  }
 },
 "nbformat": 4,
 "nbformat_minor": 1
}
