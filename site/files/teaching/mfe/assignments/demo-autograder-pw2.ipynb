{
 "cells": [
  {
   "cell_type": "markdown",
   "metadata": {},
   "source": [
    "# Demo Autograder\n",
    "\n",
    "This file can be run against your code to understand the basics of how the autograder works.  The autograder:\n",
    "\n",
    "* loads your file as a Python module\n",
    "* runs each function\n",
    "* checks the output of each function\n",
    "\n",
    "The formal tests are not included. The tests included in this file are sanity checks.\n",
    "\n",
    "To run this on your code, please the notebook in the same folder as your `.py` file. Then set `FILENAME` to the name of your file.  You should then be able to run it.  If you see an `AssertionError` then your code isn't passing a sanity check."
   ]
  },
  {
   "cell_type": "code",
   "execution_count": null,
   "metadata": {},
   "outputs": [],
   "source": [
    "from importlib.machinery import SourceFileLoader\n",
    "import pandas as pd\n",
    "import os\n",
    "import glob\n",
    "import pandas as pd\n",
    "import numpy as np\n",
    "\n",
    "ROOT = os.getcwd()\n",
    "FILENAME = \"solutions-pw2.py\"\n",
    "FILE = os.path.join(ROOT, FILENAME)\n",
    "mod = SourceFileLoader(FILENAME.split(\".py\")[0], FILE).load_module()"
   ]
  },
  {
   "cell_type": "code",
   "execution_count": null,
   "metadata": {},
   "outputs": [],
   "source": [
    "rg = np.random.default_rng(38218301830131)\n",
    "index = pd.bdate_range(\"2020-01-01\", periods=500, freq=\"D\")\n",
    "y = pd.Series(rg.standard_normal(500), index=index)\n",
    "yhat = pd.Series(rg.standard_normal(500), index=index)\n",
    "mu = 0.0\n",
    "\n",
    "output = mod.oos_rsquared(y, yhat, mu)\n",
    "assert isinstance(output, float)\n",
    "assert output <= 1.0"
   ]
  },
  {
   "cell_type": "code",
   "execution_count": null,
   "metadata": {},
   "outputs": [],
   "source": [
    "index = pd.bdate_range(\"1950-01-01\", periods=250, freq=\"M\")\n",
    "y = pd.Series(rg.standard_normal(250), index=index)\n",
    "k_max = 7\n",
    "columns = [f\"x{i}\" for i in range(1, k_max + 1)]\n",
    "x = pd.DataFrame(rg.standard_normal((250, k_max)), columns=columns, index=index)\n",
    "beta = pd.Series(np.ones(k_max), index=columns)\n",
    "first = \"1955\"\n",
    "last = \"1965\"\n",
    "resid = mod.oos_residuals(y, x, beta, first, last)\n",
    "isinstance(resid, pd.Series)\n",
    "assert resid.shape == y[first:last].shape"
   ]
  }
 ],
 "metadata": {
  "kernelspec": {
   "display_name": "Python 3",
   "language": "python",
   "name": "python3"
  },
  "language_info": {
   "codemirror_mode": {
    "name": "ipython",
    "version": 3
   },
   "file_extension": ".py",
   "mimetype": "text/x-python",
   "name": "python",
   "nbconvert_exporter": "python",
   "pygments_lexer": "ipython3",
   "version": "3.8.5"
  }
 },
 "nbformat": 4,
 "nbformat_minor": 4
}
