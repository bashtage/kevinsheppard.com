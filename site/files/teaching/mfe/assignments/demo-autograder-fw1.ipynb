{
 "cells": [
  {
   "cell_type": "markdown",
   "metadata": {},
   "source": [
    "# Demo Autograder\n",
    "\n",
    "This file can be run against your code to understand the basics of how the autograder works.  The autograder:\n",
    "\n",
    "* loads your file as a Python module\n",
    "* runs each function\n",
    "* checks the output of each function\n",
    "\n",
    "The formal tests are not included. The tests included in this file are sanity checks.\n",
    "\n",
    "To run this on your code, please the notebook in the same folder as your `.py` file. Then set `FILENAME` to the name of your file.  You should then be able to run it.  If you see an `AssertionError` then your code isn't passing a sanity check."
   ]
  },
  {
   "cell_type": "code",
   "execution_count": null,
   "metadata": {},
   "outputs": [],
   "source": [
    "import glob\n",
    "import os\n",
    "from importlib.machinery import SourceFileLoader\n",
    "\n",
    "import numpy as np\n",
    "import pandas as pd\n",
    "\n",
    "ROOT = os.getcwd()\n",
    "FILENAME = \"solutions-fw1.py\"\n",
    "FILE = os.path.join(ROOT, FILENAME)\n",
    "mod = SourceFileLoader(FILENAME.split(\".py\")[0], FILE).load_module()"
   ]
  },
  {
   "cell_type": "code",
   "execution_count": null,
   "metadata": {},
   "outputs": [],
   "source": [
    "rg = np.random.default_rng(38218301830131)\n",
    "index = pd.bdate_range(\"2020-01-01\", periods=500, freq=\"D\")\n",
    "rets = pd.Series(rg.standard_normal(500), index=index)\n",
    "lam = 0.9\n",
    "window = 120\n",
    "p = 0.95\n",
    "\n",
    "var_forecast = mod.weighted_hs(rets, lam, window, p)\n",
    "t = rets.shape[0]\n",
    "assert isinstance(var_forecast, pd.Series)\n",
    "assert var_forecast.shape == rets.shape\n",
    "assert np.all(var_forecast.index == rets.index)\n",
    "assert np.all(np.isnan(var_forecast.iloc[:window - 1]))"
   ]
  },
  {
   "cell_type": "code",
   "execution_count": null,
   "metadata": {},
   "outputs": [],
   "source": [
    "import datetime as dt\n",
    "\n",
    "initial = dt.datetime(2021, 2, 1, 9, 30, 0)\n",
    "delta = dt.timedelta(minutes=1)\n",
    "index = [initial + dt.timedelta(minutes=i) for i in range(390)]\n",
    "rets = pd.Series(rg.standard_normal(390), index=index)\n",
    "k = 10\n",
    "rv = mod.subsampled_rv(rets, k)\n",
    "\n",
    "assert isinstance(rv, float)\n",
    "assert rv >= 0.0"
   ]
  },
  {
   "cell_type": "code",
   "execution_count": null,
   "metadata": {},
   "outputs": [],
   "source": [
    "rho = 0.75\n",
    "y0 = 1 / np.sqrt(1 - 0.75 ** 2) * rg.standard_normal()\n",
    "errors = rg.standard_normal(1000)\n",
    "y = mod.ar1_simulate(rho, errors, y0)\n",
    "\n",
    "assert isinstance(y, np.ndarray)\n",
    "assert y.shape == errors.shape"
   ]
  }
 ],
 "metadata": {
  "kernelspec": {
   "display_name": "Python 3",
   "language": "python",
   "name": "python3"
  },
  "language_info": {
   "codemirror_mode": {
    "name": "ipython",
    "version": 3
   },
   "file_extension": ".py",
   "mimetype": "text/x-python",
   "name": "python",
   "nbconvert_exporter": "python",
   "pygments_lexer": "ipython3",
   "version": "3.8.5"
  }
 },
 "nbformat": 4,
 "nbformat_minor": 4
}
