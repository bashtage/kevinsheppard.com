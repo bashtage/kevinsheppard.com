{
 "cells": [
  {
   "cell_type": "markdown",
   "metadata": {},
   "source": [
    "# Demo Autograder\n",
    "\n",
    "This file can be run against your code to understand the basics of how the autograder works.  The autograder:\n",
    "\n",
    "* loads your file as a Python module\n",
    "* runs each function\n",
    "* checks the output of each function\n",
    "\n",
    "The formal tests are not included. The tests included in this file are sanity checks.\n",
    "\n",
    "To run this on your code, please the notebook in the same folder as your `.py` file. Then set `FILENAME` to the name of your file.  You should then be able to run it.  If you see an `AssertionError` then your code isn't passing a sanity check."
   ]
  },
  {
   "cell_type": "code",
   "execution_count": null,
   "metadata": {},
   "outputs": [],
   "source": [
    "from importlib.machinery import SourceFileLoader\n",
    "import pandas as pd\n",
    "import os\n",
    "import glob\n",
    "import pandas as pd\n",
    "import numpy as np\n",
    "\n",
    "ROOT = os.getcwd()\n",
    "FILENAME = \"solutions-pw3.py\"\n",
    "FILE = os.path.join(ROOT, FILENAME)\n",
    "mod = SourceFileLoader(FILENAME.split(\".py\")[0], FILE).load_module()"
   ]
  },
  {
   "cell_type": "code",
   "execution_count": null,
   "metadata": {},
   "outputs": [],
   "source": [
    "rg = np.random.default_rng(38218301830131)\n",
    "index = pd.bdate_range(\"2020-01-01\", periods=500, freq=\"D\")\n",
    "realization = pd.Series(rg.standard_normal(500), index=index)\n",
    "forecast = pd.Series(rg.standard_normal(500), index=index)\n",
    "\n",
    "parameters, indiv_stats, joint_stat = mod.mincer_zarnowitz(realization, forecast)\n",
    "assert isinstance(parameters, pd.Series)\n",
    "assert isinstance(indiv_stats, pd.Series)\n",
    "assert isinstance(joint_stat, float)\n",
    "assert list(parameters.index) == [\"alpha\", \"beta\"]\n",
    "assert list(indiv_stats.index) == [\"alpha\", \"beta\"]\n",
    "assert joint_stat >= 0.0"
   ]
  },
  {
   "cell_type": "code",
   "execution_count": null,
   "metadata": {},
   "outputs": [],
   "source": [
    "index = pd.bdate_range(\"1950-01-01\", periods=250, freq=\"M\")\n",
    "loss_a = pd.Series(rg.standard_normal(250)** 2, index=index)\n",
    "loss_b = pd.Series(rg.standard_normal(250)** 2, index=index)\n",
    "nw_bandwidth = 7\n",
    "\n",
    "avg_diff, std_err, dm_stat, concl = mod.diebold_mariano(loss_a, loss_b, nw_bandwidth)\n",
    "assert isinstance(avg_diff, float)\n",
    "assert isinstance(std_err, float)\n",
    "assert isinstance(dm_stat, float)\n",
    "assert isinstance(concl, int)\n",
    "assert np.sign(avg_diff) == np.sign(dm_stat)\n",
    "assert std_err >= 0.0\n",
    "assert concl in (-1, 0, 1)"
   ]
  }
 ],
 "metadata": {
  "kernelspec": {
   "display_name": "Python 3",
   "language": "python",
   "name": "python3"
  },
  "language_info": {
   "codemirror_mode": {
    "name": "ipython",
    "version": 3
   },
   "file_extension": ".py",
   "mimetype": "text/x-python",
   "name": "python",
   "nbconvert_exporter": "python",
   "pygments_lexer": "ipython3",
   "version": "3.8.5"
  }
 },
 "nbformat": 4,
 "nbformat_minor": 2
}
