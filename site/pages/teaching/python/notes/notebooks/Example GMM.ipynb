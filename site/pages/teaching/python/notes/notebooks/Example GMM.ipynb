{
 "cells": [
  {
   "cell_type": "markdown",
   "metadata": {},
   "source": [
    "# Risk Premia Estimation using GMM"
   ]
  },
  {
   "cell_type": "markdown",
   "metadata": {},
   "source": [
    "Start by importing the modules and functions needed"
   ]
  },
  {
   "cell_type": "code",
   "execution_count": 1,
   "metadata": {
    "pycharm": {
     "is_executing": false
    }
   },
   "outputs": [],
   "source": [
    "from numpy import hstack, ones, array, mat, tile, reshape, squeeze, eye, asmatrix\n",
    "from numpy.linalg import inv\n",
    "from pandas import read_csv, Series \n",
    "from scipy.linalg import kron\n",
    "from scipy.optimize import fmin_bfgs\n",
    "import numpy as np\n",
    "import statsmodels.api as sm"
   ]
  },
  {
   "cell_type": "markdown",
   "metadata": {},
   "source": [
    "Next a callable function is used to produce iteration-by-iteration output when using the non-linear optimizer."
   ]
  },
  {
   "cell_type": "code",
   "execution_count": 2,
   "metadata": {
    "pycharm": {
     "is_executing": false
    }
   },
   "outputs": [],
   "source": [
    "iteration = 0\n",
    "lastValue = 0\n",
    "functionCount = 0\n",
    "\n",
    "def iter_print(params):\n",
    "    global iteration, lastValue, functionCount\n",
    "    iteration += 1\n",
    "    print('Func value: {0:}, Iteration: {1:}, Function Count: {2:}'.format(lastValue, iteration, functionCount))\n"
   ]
  },
  {
   "cell_type": "markdown",
   "metadata": {},
   "source": [
    "The GMM objective, which is minimized, is defined next."
   ]
  },
  {
   "cell_type": "code",
   "execution_count": 3,
   "metadata": {
    "pycharm": {
     "is_executing": false
    }
   },
   "outputs": [],
   "source": [
    "def gmm_objective(params, pRets, fRets, Winv, out=False):\n",
    "    global lastValue, functionCount\n",
    "    T,N = pRets.shape\n",
    "    T,K = fRets.shape\n",
    "    beta = squeeze(array(params[:(N*K)]))\n",
    "    lam = squeeze(array(params[(N*K):]))\n",
    "    beta = reshape(beta,(N,K))\n",
    "    lam = reshape(lam,(K,1))\n",
    "    betalam = beta @ lam\n",
    "    expectedRet = fRets @ beta.T\n",
    "    e = pRets - expectedRet\n",
    "    instr = tile(fRets,N)\n",
    "    moments1  = kron(e,ones((1,K)))\n",
    "    moments1 = moments1 * instr\n",
    "    moments2 = pRets - betalam.T\n",
    "    moments = hstack((moments1,moments2))\n",
    "\n",
    "    avgMoment = moments.mean(axis=0)\n",
    "    \n",
    "    J = T * mat(avgMoment) * mat(Winv) * mat(avgMoment).T\n",
    "    J = J[0,0]\n",
    "    lastValue = J\n",
    "    functionCount += 1\n",
    "    if not out:\n",
    "        return J\n",
    "    else:\n",
    "        return J, moments\n"
   ]
  },
  {
   "cell_type": "markdown",
   "metadata": {},
   "source": [
    "The `G` matrix, which is the derivative of the GMM moments with respect to the parameters, is defined."
   ]
  },
  {
   "cell_type": "code",
   "execution_count": 4,
   "metadata": {
    "pycharm": {
     "is_executing": false
    }
   },
   "outputs": [],
   "source": [
    "def gmm_G(params, pRets, fRets):\n",
    "    T,N = pRets.shape\n",
    "    T,K = fRets.shape\n",
    "    beta = squeeze(array(params[:(N*K)]))\n",
    "    lam = squeeze(array(params[(N*K):]))\n",
    "    beta = reshape(beta,(N,K))\n",
    "    lam = reshape(lam,(K,1))\n",
    "    G = np.zeros((N*K+K,N*K+N))\n",
    "    ffp = (fRets.T @ fRets) / T\n",
    "    G[:(N*K),:(N*K)]=kron(eye(N),ffp)\n",
    "    G[:(N*K),(N*K):] = kron(eye(N),-lam)\n",
    "    G[(N*K):,(N*K):] = -beta.T\n",
    "    \n",
    "    return G"
   ]
  },
  {
   "cell_type": "markdown",
   "metadata": {},
   "source": [
    "Next, the data is imported and a subset of the test portfolios is selected to make the estimation faster."
   ]
  },
  {
   "cell_type": "code",
   "execution_count": 5,
   "metadata": {
    "pycharm": {
     "is_executing": false
    }
   },
   "outputs": [],
   "source": [
    "data = read_csv('FamaFrench.csv')\n",
    "\n",
    "# Split using both named colums and ix for larger blocks\n",
    "dates = data['date'].values\n",
    "factors = data[['VWMe','SMB','HML']].values\n",
    "riskfree = data['RF'].values\n",
    "portfolios = data.iloc[:,5:].values\n",
    "\n",
    "T,N = portfolios.shape\n",
    "portfolios = portfolios[:,np.arange(0,N,2)]\n",
    "T,N = portfolios.shape\n",
    "excessRet = portfolios - np.reshape(riskfree,(T,1))\n",
    "K = np.size(factors,1)"
   ]
  },
  {
   "cell_type": "markdown",
   "metadata": {},
   "source": [
    "Starting values for the factor loadings and rick premia are estimated using OLS and simple means."
   ]
  },
  {
   "cell_type": "code",
   "execution_count": 6,
   "metadata": {
    "pycharm": {
     "is_executing": false
    }
   },
   "outputs": [],
   "source": [
    "betas = []\n",
    "for i in range(N):\n",
    "    res = sm.OLS(excessRet[:,i],sm.add_constant(factors)).fit()\n",
    "    betas.append(res.params[1:])\n",
    "\n",
    "avgReturn = excessRet.mean(axis=0)\n",
    "avgReturn.shape = N,1\n",
    "betas = array(betas)\n",
    "res = sm.OLS(avgReturn, betas).fit()\n",
    "riskPremia = res.params"
   ]
  },
  {
   "cell_type": "markdown",
   "metadata": {},
   "source": [
    "The starting values are computed the first step estimates are found using the non-linear optimizer.  The initial weighting matrix is just the identify matrix."
   ]
  },
  {
   "cell_type": "code",
   "execution_count": 7,
   "metadata": {
    "pycharm": {
     "is_executing": false
    }
   },
   "outputs": [
    {
     "name": "stdout",
     "text": [
      "Func value: 1915.975414620774, Iteration: 1, Function Count: 132\n",
      "Func value: 1817.0224254364093, Iteration: 2, Function Count: 220\nFunc value: 1814.9526088153193, Iteration: 3, Function Count: 308\n",
      "Func value: 1814.8636328788023, Iteration: 4, Function Count: 396\nFunc value: 1814.7320075212833, Iteration: 5, Function Count: 440\n",
      "Func value: 1814.4944170296885, Iteration: 6, Function Count: 484\nFunc value: 1814.4840096314288, Iteration: 7, Function Count: 572\n",
      "Func value: 1814.4835355894866, Iteration: 8, Function Count: 660\n",
      "Func value: 1814.4834334886873, Iteration: 9, Function Count: 748\nFunc value: 1814.4832402214106, Iteration: 10, Function Count: 792\n",
      "Func value: 1814.483239345376, Iteration: 11, Function Count: 880\n",
      "Func value: 1814.4832044513546, Iteration: 12, Function Count: 1012\n",
      "Func value: 1814.3989963962504, Iteration: 13, Function Count: 1276\nFunc value: 1814.3642859418874, Iteration: 14, Function Count: 1320\nFunc value: 1814.301102018856, Iteration: 15, Function Count: 1364\n",
      "Func value: 1814.301098499327, Iteration: 16, Function Count: 1452\nFunc value: 1814.3010704933515, Iteration: 17, Function Count: 1540\n",
      "Func value: 1814.296612835476, Iteration: 18, Function Count: 1716\nFunc value: 1814.2538448019918, Iteration: 19, Function Count: 1804\n",
      "Func value: 1814.253749266872, Iteration: 20, Function Count: 1892\nFunc value: 1814.2536217543443, Iteration: 21, Function Count: 1936\n",
      "Func value: 1814.2341819587186, Iteration: 22, Function Count: 2112\n",
      "Func value: 1814.2190046927274, Iteration: 23, Function Count: 2156\nFunc value: 1814.1901664290635, Iteration: 24, Function Count: 2200\n",
      "Func value: 1814.1900618989262, Iteration: 25, Function Count: 2288\nFunc value: 1814.1899629209177, Iteration: 26, Function Count: 2332",
      "\n",
      "Func value: 1814.1315029565549, Iteration: 27, Function Count: 2552\nFunc value: 1814.1207160483482, Iteration: 28, Function Count: 2640",
      "\nFunc value: 1814.120651593227, Iteration: 29, Function Count: 2728",
      "\n",
      "Func value: 1814.1206404952559, Iteration: 30, Function Count: 2816\n",
      "Func value: 1814.093987040505, Iteration: 31, Function Count: 3080\nFunc value: 1814.0931557560025, Iteration: 32, Function Count: 3168\n",
      "Func value: 1814.0922310255569, Iteration: 33, Function Count: 3212\nFunc value: 1814.0921898261458, Iteration: 34, Function Count: 3300\n",
      "Func value: 1814.092112795961, Iteration: 35, Function Count: 3344\n",
      "Func value: 1814.080248929288, Iteration: 36, Function Count: 3520\nFunc value: 1814.0799729900195, Iteration: 37, Function Count: 3608\n",
      "Func value: 1814.079961881844, Iteration: 38, Function Count: 3696\n",
      "Func value: 1814.0799614793552, Iteration: 39, Function Count: 3784\n",
      "Func value: 1814.0757650935916, Iteration: 40, Function Count: 4092\n",
      "Func value: 1814.0755830705248, Iteration: 41, Function Count: 4180\nFunc value: 1814.0755746091875, Iteration: 42, Function Count: 4268",
      "\n",
      "Func value: 1814.0702842972405, Iteration: 43, Function Count: 4488\n",
      "Func value: 1814.0700243731067, Iteration: 44, Function Count: 4576\n",
      "Func value: 1814.0700110352632, Iteration: 45, Function Count: 4664\n",
      "Func value: 1814.0678482400072, Iteration: 46, Function Count: 4840\nFunc value: 1814.067660339931, Iteration: 47, Function Count: 4928\n",
      "Func value: 1814.067656754271, Iteration: 48, Function Count: 5016\n",
      "Func value: 1814.065377183398, Iteration: 49, Function Count: 5236\n",
      "Func value: 1814.0652521531151, Iteration: 50, Function Count: 5324\nFunc value: 1814.0652503654978, Iteration: 51, Function Count: 5412\n",
      "Func value: 1814.0640861808768, Iteration: 52, Function Count: 5632\nFunc value: 1814.0640022668042, Iteration: 53, Function Count: 5720\n",
      "Func value: 1814.0611488164795, Iteration: 54, Function Count: 5852\nFunc value: 1814.059515832646, Iteration: 55, Function Count: 5896\nFunc value: 1814.0595158325361, Iteration: 56, Function Count: 5940\n",
      "Func value: 1814.0595158325355, Iteration: 57, Function Count: 6072\n",
      "Warning: Desired error not necessarily achieved due to precision loss.\n         Current function value: 1814.059516\n         Iterations: 57\n         Function evaluations: 9031\n         Gradient evaluations: 205\n"
     ],
     "output_type": "stream"
    }
   ],
   "source": [
    "riskPremia.shape = 3\n",
    "startingVals = np.concatenate((betas.flatten(),riskPremia))\n",
    "\n",
    "Winv = np.eye(N*(K+1))\n",
    "args = (excessRet, factors, Winv)\n",
    "iteration = 0\n",
    "functionCount = 0\n",
    "step1opt = fmin_bfgs(gmm_objective, startingVals, args=args, callback=iter_print)"
   ]
  },
  {
   "cell_type": "markdown",
   "metadata": {},
   "source": [
    "Here we look at the risk premia estimates from the first step (inefficient) estimates."
   ]
  },
  {
   "cell_type": "code",
   "execution_count": 8,
   "metadata": {
    "pycharm": {
     "is_executing": false
    }
   },
   "outputs": [
    {
     "name": "stdout",
     "text": [
      "Annualized Risk Premia (First step)\nVWMe    5.829995\nSMB     4.068224\nHML     1.680948\ndtype: float64\n"
     ],
     "output_type": "stream"
    }
   ],
   "source": [
    "premia = step1opt[-3:]\n",
    "premia = Series(premia,index=['VWMe', 'SMB', 'HML'])\n",
    "print('Annualized Risk Premia (First step)')\n",
    "print(12 * premia)"
   ]
  },
  {
   "cell_type": "markdown",
   "metadata": {},
   "source": [
    "Next the first step estimates are used to estimate the moment conditions which are in-turn used to estimate the optimal weighting matrix for the moment conditions.  This is then used as an input for the 2nd-step estimates."
   ]
  },
  {
   "cell_type": "code",
   "execution_count": 9,
   "metadata": {
    "pycharm": {
     "is_executing": false
    }
   },
   "outputs": [
    {
     "name": "stdout",
     "text": [
      "Func value: 70.69178252370772, Iteration: 1, Function Count: 132\n",
      "Func value: 69.26303959975596, Iteration: 2, Function Count: 176\nFunc value: 67.07244129650894, Iteration: 3, Function Count: 220\nFunc value: 64.57443451479321, Iteration: 4, Function Count: 264\n",
      "Func value: 62.64097306083999, Iteration: 5, Function Count: 308\n",
      "Func value: 60.38315319123633, Iteration: 6, Function Count: 352\nFunc value: 59.77131346063476, Iteration: 7, Function Count: 396\nFunc value: 59.016700262647376, Iteration: 8, Function Count: 440\n",
      "Func value: 58.11824688768306, Iteration: 9, Function Count: 484\n",
      "Func value: 57.16139475771817, Iteration: 10, Function Count: 528\nFunc value: 56.54119670206884, Iteration: 11, Function Count: 572\nFunc value: 55.76261111890216, Iteration: 12, Function Count: 616\n",
      "Func value: 54.70774239263665, Iteration: 13, Function Count: 660\n",
      "Func value: 54.16273697904013, Iteration: 14, Function Count: 748\nFunc value: 53.68442984106602, Iteration: 15, Function Count: 792\nFunc value: 53.24912513313372, Iteration: 16, Function Count: 836\n",
      "Func value: 52.95654923541569, Iteration: 17, Function Count: 880\n",
      "Func value: 52.70763030807515, Iteration: 18, Function Count: 924\nFunc value: 52.40947922763522, Iteration: 19, Function Count: 968\nFunc value: 52.28025850343027, Iteration: 20, Function Count: 1012\n",
      "Func value: 52.0945930956645, Iteration: 21, Function Count: 1056\n",
      "Func value: 51.92591993694722, Iteration: 22, Function Count: 1100\nFunc value: 51.69127887764556, Iteration: 23, Function Count: 1144\nFunc value: 51.32800767550518, Iteration: 24, Function Count: 1188\n",
      "Func value: 50.8832556502003, Iteration: 25, Function Count: 1232\nFunc value: 50.61502081122463, Iteration: 26, Function Count: 1276\n",
      "Func value: 50.3253061036018, Iteration: 27, Function Count: 1320\nFunc value: 49.82326422689157, Iteration: 28, Function Count: 1364\nFunc value: 49.458055584312206, Iteration: 29, Function Count: 1408\n",
      "Func value: 49.30507269503761, Iteration: 30, Function Count: 1452\nFunc value: 49.080604460391186, Iteration: 31, Function Count: 1496\n",
      "Func value: 48.86937171160105, Iteration: 32, Function Count: 1540\nFunc value: 48.76039718096907, Iteration: 33, Function Count: 1628\n",
      "Func value: 48.61522962324979, Iteration: 34, Function Count: 1672\n",
      "Func value: 48.43822338181308, Iteration: 35, Function Count: 1716\nFunc value: 48.223264727455955, Iteration: 36, Function Count: 1760\nFunc value: 48.119297612182464, Iteration: 37, Function Count: 1804\n",
      "Func value: 47.9966953205165, Iteration: 38, Function Count: 1848\nFunc value: 47.82071403838669, Iteration: 39, Function Count: 1892",
      "\nFunc value: 47.59984420196816, Iteration: 40, Function Count: 1936\nFunc value: 47.19190580374522, Iteration: 41, Function Count: 1980\n",
      "Func value: 46.46434101774428, Iteration: 42, Function Count: 2024\n",
      "Func value: 46.17952767128317, Iteration: 43, Function Count: 2112\nFunc value: 45.64869841620502, Iteration: 44, Function Count: 2156\nFunc value: 44.79178194363791, Iteration: 45, Function Count: 2200\n",
      "Func value: 44.31246192707072, Iteration: 46, Function Count: 2244\nFunc value: 44.31220746711396, Iteration: 47, Function Count: 2288",
      "\nFunc value: 44.31216779746252, Iteration: 48, Function Count: 2332\nFunc value: 44.31216776026349, Iteration: 49, Function Count: 2376\n",
      "Func value: 44.31216775979089, Iteration: 50, Function Count: 2420\nFunc value: 44.31216775977227, Iteration: 51, Function Count: 2464\n",
      "Func value: 44.31216775977222, Iteration: 52, Function Count: 3564\n",
      "Warning: Desired error not necessarily achieved due to precision loss.\n         Current function value: 44.312168\n         Iterations: 52\n         Function evaluations: 6786\n         Gradient evaluations: 154\n"
     ],
     "output_type": "stream"
    }
   ],
   "source": [
    "out = gmm_objective(step1opt, excessRet, factors, Winv, out=True)\n",
    "S = np.cov(out[1].T)\n",
    "Winv2 = inv(S)\n",
    "args = (excessRet, factors, Winv2)\n",
    "\n",
    "iteration = 0\n",
    "functionCount = 0\n",
    "step2opt = fmin_bfgs(gmm_objective, step1opt, args=args, callback=iter_print)"
   ]
  },
  {
   "cell_type": "markdown",
   "metadata": {},
   "source": [
    "Finally the VCV of the parameter estimates is computed."
   ]
  },
  {
   "cell_type": "code",
   "execution_count": 10,
   "metadata": {
    "pycharm": {
     "is_executing": false
    }
   },
   "outputs": [],
   "source": [
    "out = gmm_objective(step2opt, excessRet, factors, Winv2, out=True)\n",
    "G = gmm_G(step2opt, excessRet, factors)\n",
    "S = np.cov(out[1].T)\n",
    "vcv = inv(G @ inv(S) @ G.T)/T"
   ]
  },
  {
   "cell_type": "markdown",
   "metadata": {},
   "source": [
    "The annualized risk premia and their associated t-stats."
   ]
  },
  {
   "cell_type": "code",
   "execution_count": 11,
   "metadata": {
    "pycharm": {
     "is_executing": false
    }
   },
   "outputs": [
    {
     "name": "stdout",
     "text": [
      "Annualized Risk Premia\nVWMe    10.089708\nSMB      3.457167\nHML      7.620110\ndtype: float64\nT-stats\nVWMe    28.282294\nSMB     22.372714\nHML     43.791637\ndtype: float64\n"
     ],
     "output_type": "stream"
    }
   ],
   "source": [
    "premia = step2opt[-3:]\n",
    "premia = Series(premia,index=['VWMe', 'SMB', 'HML'])\n",
    "premia_vcv = vcv[-3:,-3:]\n",
    "print('Annualized Risk Premia')\n",
    "print(12 * premia)\n",
    "\n",
    "premia_stderr = np.diag(premia_vcv)\n",
    "premia_stderr = Series(premia_stderr,index=['VWMe', 'SMB', 'HML'])\n",
    "print('T-stats')\n",
    "print(premia / premia_stderr)"
   ]
  }
 ],
 "metadata": {
  "kernelspec": {
   "display_name": "Python 3",
   "language": "python",
   "name": "python3"
  },
  "language_info": {
   "codemirror_mode": {
    "name": "ipython",
    "version": 3
   },
   "file_extension": ".py",
   "mimetype": "text/x-python",
   "name": "python",
   "nbconvert_exporter": "python",
   "pygments_lexer": "ipython3",
   "version": "3.7.4"
  },
  "nikola": {
   "category": "teaching",
   "date": "2019-09-04 17:18:32 UTC+01:00",
   "description": "",
   "link": "",
   "slug": "example-gmm-estimation",
   "tags": "",
   "title": "Example: GMM Estimation",
   "type": "text"
  },
  "pycharm": {
   "stem_cell": {
    "cell_type": "raw",
    "source": [],
    "metadata": {
     "collapsed": false
    }
   }
  }
 },
 "nbformat": 4,
 "nbformat_minor": 2
}