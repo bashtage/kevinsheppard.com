{
 "cells": [
  {
   "cell_type": "markdown",
   "metadata": {},
   "source": [
    "# Logical Operators\n",
    "\n",
    "This lesson covers:\n",
    "\n",
    "* Basic logical operators \n",
    "* Compound operators \n",
    "* Mixing logic and loops \n",
    "* `all` and `any` \n",
    "\n",
    "Begin by loading the data in momentum.csv.\n"
   ]
  },
  {
   "cell_type": "code",
   "execution_count": null,
   "metadata": {
    "pycharm": {
     "is_executing": false,
     "name": "#%%\n"
    }
   },
   "outputs": [],
   "source": [
    "# Setup: Load the momentum data\n",
    "\n",
    "import pandas as pd\n",
    "\n",
    "momentum = pd.read_csv('data/momentum.csv', index_col='date', parse_dates=True)\n",
    "\n",
    "print(momentum.head())\n",
    "\n",
    "mom_01 = momentum['mom_01']\n",
    "mom_10 = momentum['mom_10']\n",
    "mom_05 = momentum['mom_05']\n"
   ]
  },
  {
   "cell_type": "markdown",
   "metadata": {},
   "source": [
    "## Problem: Basic Logical Statements\n",
    "\n",
    "For portfolio 1 and portfolio 10, count the number of elements that are $<0$, $\\geq0$, and exactly\n",
    "equal to 0. Next count the number of times that the returns in portfolio 5 are greater, \n",
    "in absolute value, that 2 times the standard deviation of the returns in that portfolio. \n",
    "\n"
   ]
  },
  {
   "cell_type": "code",
   "execution_count": null,
   "metadata": {},
   "outputs": [],
   "source": []
  },
  {
   "cell_type": "code",
   "execution_count": null,
   "metadata": {},
   "outputs": [],
   "source": []
  },
  {
   "cell_type": "markdown",
   "metadata": {},
   "source": [
    "## Problem: Compound Statements\n",
    "Count the number of times that the returns in both portfolio 1 and portfolio 10 are negative. \n",
    "Next count the number of times that the returns in portfolios 1 and 10 are both greater, in \n",
    "absolute value, that 2 times their respective standard deviations. "
   ]
  },
  {
   "cell_type": "code",
   "execution_count": null,
   "metadata": {},
   "outputs": [],
   "source": []
  },
  {
   "cell_type": "code",
   "execution_count": null,
   "metadata": {},
   "outputs": [],
   "source": []
  },
  {
   "cell_type": "markdown",
   "metadata": {},
   "source": [
    "## Problem: Logical Statements and for Loops\n",
    "Use a for loop along with an if statement to simulate an asymmetric random walk of the form \n",
    "\n",
    "$$y_{i}=y_{i-1}+e_{i}+I_{[e_{i}<0]}e_{i}$$\n",
    "\n",
    "where $I_{[e_{i}<0]}$ is known as an indicator variable that takes the value 1 if the statement in \n",
    "brackets is true. Plot y. $e$ is a standard normal shock. Use `cumsum` to simulate a symmetric\n",
    "one (`z`), and plot the two using the code in the cell below.\n",
    " "
   ]
  },
  {
   "cell_type": "code",
   "execution_count": null,
   "metadata": {},
   "outputs": [],
   "source": []
  },
  {
   "cell_type": "code",
   "execution_count": null,
   "metadata": {
    "pycharm": {
     "is_executing": false,
     "name": "#%%\n"
    }
   },
   "outputs": [],
   "source": [
    "# Setup: Plot the data\n",
    "%matplotlib inline"
   ]
  },
  {
   "cell_type": "code",
   "execution_count": null,
   "metadata": {},
   "outputs": [],
   "source": []
  },
  {
   "cell_type": "markdown",
   "metadata": {},
   "source": [
    "## Problem: Selecting Elements using Logical Statements\n",
    "For portfolio 1 and portfolio 10, select the elements that are $<0$, $\\geq 0$ and exactly equal to \n",
    "$0$. Next select the elements where both portfolios are less than $0$. \n"
   ]
  },
  {
   "cell_type": "code",
   "execution_count": null,
   "metadata": {},
   "outputs": [],
   "source": []
  },
  {
   "cell_type": "code",
   "execution_count": null,
   "metadata": {},
   "outputs": [],
   "source": []
  },
  {
   "cell_type": "code",
   "execution_count": null,
   "metadata": {},
   "outputs": [],
   "source": []
  },
  {
   "cell_type": "markdown",
   "metadata": {},
   "source": [
    "## Problem: Using `where`\n",
    "Use `where` to select the index of the elements in portfolio 5 that are negative. Next, use the\n",
    "`where` command in its two output form to determine which elements of the portfolio return matrix\n",
    "are less than -2%."
   ]
  },
  {
   "cell_type": "code",
   "execution_count": null,
   "metadata": {},
   "outputs": [],
   "source": []
  },
  {
   "cell_type": "code",
   "execution_count": null,
   "metadata": {},
   "outputs": [],
   "source": []
  },
  {
   "cell_type": "code",
   "execution_count": null,
   "metadata": {},
   "outputs": [],
   "source": []
  },
  {
   "cell_type": "markdown",
   "metadata": {},
   "source": [
    "## Problem: Combining flow control\n",
    "For momentum portfolios 1 and 10, compute the length of the runs in the series. In pseudo code,\n",
    "\n",
    "* Start at i=1 and define run(1) = 1\n",
    "* For i in 2,...,T, define run(i) = run(i-1) + 1 if \n",
    "  $\\textrm{sgn}\\left(r_{i}\\right)=\\textrm{sgn}\\left(r_{i-1}\\right)$ else 1.\n",
    "\n",
    "You will need to use `len` and `zeros`. \n",
    "\n",
    "1. Compute the length longest run in the series and the index of the location of the longest run. \n",
    "Was it positive or negative?\n",
    "2. How many distinct runs lasted 5 or more days?"
   ]
  },
  {
   "cell_type": "code",
   "execution_count": null,
   "metadata": {},
   "outputs": [],
   "source": []
  },
  {
   "cell_type": "code",
   "execution_count": null,
   "metadata": {},
   "outputs": [],
   "source": []
  },
  {
   "cell_type": "markdown",
   "metadata": {
    "collapsed": false,
    "pycharm": {
     "name": "#%% md\n"
    }
   },
   "source": [
    "## Problem: Use `any` to find large losses\n",
    "\n",
    "Use any to determine if any of the 10 portfolios experienced a loss greater than -5%."
   ]
  },
  {
   "cell_type": "code",
   "execution_count": null,
   "metadata": {},
   "outputs": [],
   "source": []
  },
  {
   "cell_type": "code",
   "execution_count": null,
   "metadata": {},
   "outputs": [],
   "source": []
  },
  {
   "cell_type": "code",
   "execution_count": null,
   "metadata": {},
   "outputs": [],
   "source": []
  },
  {
   "cell_type": "markdown",
   "metadata": {
    "collapsed": false,
    "pycharm": {
     "name": "#%% md\n"
    }
   },
   "source": [
    "Use `all` and negation to do the same check as `any`."
   ]
  },
  {
   "cell_type": "code",
   "execution_count": null,
   "metadata": {},
   "outputs": [],
   "source": []
  },
  {
   "cell_type": "markdown",
   "metadata": {},
   "source": [
    "## Exercises\n",
    "\n",
    "### Exercise: all and any\n",
    "Use all to determine the number of days where all of the portfolio returns were negative. Use any \n",
    "to compute the number of days with at least 1 negative return and with no negative returns (Hint: \n",
    "use negation (~ or `logical_not`)). "
   ]
  }
 ],
 "metadata": {
  "kernelspec": {
   "display_name": "Python 3",
   "language": "python",
   "name": "python3"
  },
  "language_info": {
   "codemirror_mode": {
    "name": "ipython",
    "version": 3
   },
   "file_extension": ".py",
   "mimetype": "text/x-python",
   "name": "python",
   "nbconvert_exporter": "python",
   "pygments_lexer": "ipython3",
   "version": "3.7.4"
  },
  "pycharm": {
   "stem_cell": {
    "cell_type": "raw",
    "metadata": {
     "collapsed": false
    },
    "source": []
   }
  }
 },
 "nbformat": 4,
 "nbformat_minor": 1
}
