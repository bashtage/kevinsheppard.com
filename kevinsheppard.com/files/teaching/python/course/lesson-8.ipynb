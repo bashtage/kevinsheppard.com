{
 "cells": [
  {
   "cell_type": "markdown",
   "metadata": {
    "collapsed": false
   },
   "source": [
    "# Accessing Elements in NumPy Arrays\n",
    "\n",
    "This lesson covers:\n",
    "\n",
    "* Accessing specific elements in NumPy arrays\n",
    "\n",
    "Accessing elements in an array or a DataFrame is a common task. To begin this lesson, clear the\n",
    "workspace set up some vectors and a $5\\times5$ array. These vectors and matrix will make it easy\n",
    "to determine which elements are selected by a command."
   ]
  },
  {
   "cell_type": "code",
   "execution_count": null,
   "metadata": {},
   "outputs": [],
   "source": []
  },
  {
   "cell_type": "markdown",
   "metadata": {
    "collapsed": false
   },
   "source": [
    "\n",
    "## Zero-based indexing\n",
    "Python indexing is 0 based so that the first element has position `0`, the second has position `1`\n",
    "and so on until the last element has position `n-1` in an array that contains `n` elements in\n",
    "total.\n",
    "\n",
    "## Problem: Picking an Element out of a Matrix\n",
    "1. Select the third element of all three, x, y, and z. \n",
    "2. Select the 11$^{\\text{th}}$ element of x.\n",
    "3. Using double index notation, select the (0,2) and the (2,0) element of x.\n",
    "\n",
    "**Issues to ponder**\n",
    "\n",
    "* Which index is rows and which index is columns?\n",
    "* Does NumPy count across first then down or down first then across? "
   ]
  },
  {
   "cell_type": "code",
   "execution_count": null,
   "metadata": {},
   "outputs": [],
   "source": []
  },
  {
   "cell_type": "code",
   "execution_count": null,
   "metadata": {},
   "outputs": [],
   "source": []
  },
  {
   "cell_type": "code",
   "execution_count": null,
   "metadata": {},
   "outputs": [],
   "source": []
  },
  {
   "cell_type": "code",
   "execution_count": null,
   "metadata": {},
   "outputs": [],
   "source": []
  },
  {
   "cell_type": "markdown",
   "metadata": {
    "collapsed": false
   },
   "source": [
    "## Problem: Selecting Entire Rows\n",
    "1. Select the 2nd row of x using the colon (:) operator.\n",
    "2. Select the 2nd element of z and y using the same syntax.\n",
    "\n",
    "**Issues to ponder**\n",
    "\n",
    "* What happens to the output in each case? \n"
   ]
  },
  {
   "cell_type": "code",
   "execution_count": null,
   "metadata": {},
   "outputs": [],
   "source": []
  },
  {
   "cell_type": "markdown",
   "metadata": {
    "collapsed": false
   },
   "source": [
    "## Problem: Selecting Entire Columns\n",
    "Select the 2nd column of x using the colon (:) operator. "
   ]
  },
  {
   "cell_type": "code",
   "execution_count": null,
   "metadata": {},
   "outputs": [],
   "source": []
  },
  {
   "cell_type": "code",
   "execution_count": null,
   "metadata": {},
   "outputs": [],
   "source": []
  },
  {
   "cell_type": "markdown",
   "metadata": {
    "collapsed": false
   },
   "source": [
    "## Problem: Selecting Specific Rows or Columns\n",
    "1. Select the 2nd and 3rd columns of x using the colon (:) operator.\n",
    "2. Select the 2nd and 4th rows of x. \n",
    "3. Combine these be combined to select columns 2 and 3 and rows 2 and 4. "
   ]
  },
  {
   "cell_type": "code",
   "execution_count": null,
   "metadata": {},
   "outputs": [],
   "source": []
  },
  {
   "cell_type": "code",
   "execution_count": null,
   "metadata": {},
   "outputs": [],
   "source": []
  },
  {
   "cell_type": "code",
   "execution_count": null,
   "metadata": {},
   "outputs": [],
   "source": []
  },
  {
   "cell_type": "markdown",
   "metadata": {
    "collapsed": false
   },
   "source": [
    "## Problem: Use `ix_` to select arbitrary rows and columns\n",
    "Use `ix_` to select the 2nd and 4th rows and 1st and 3rd columns of `x`."
   ]
  },
  {
   "cell_type": "code",
   "execution_count": null,
   "metadata": {},
   "outputs": [],
   "source": []
  },
  {
   "cell_type": "code",
   "execution_count": null,
   "metadata": {},
   "outputs": [],
   "source": []
  }
 ],
 "metadata": {
  "kernelspec": {
   "display_name": "Python 3",
   "language": "python",
   "name": "python3"
  },
  "language_info": {
   "codemirror_mode": {
    "name": "ipython",
    "version": 3
   },
   "file_extension": ".py",
   "mimetype": "text/x-python",
   "name": "python",
   "nbconvert_exporter": "python",
   "pygments_lexer": "ipython3",
   "version": "3.7.4"
  },
  "nikola": {
   "category": "teaching",
   "date": "2019-09-04 17:18:32 UTC+01:00",
   "description": "",
   "link": "",
   "slug": "lesson-8",
   "tags": "",
   "title": "Lesson 8",
   "type": "text"
  },
  "pycharm": {
   "stem_cell": {
    "cell_type": "raw",
    "metadata": {
     "collapsed": false
    },
    "source": []
   }
  }
 },
 "nbformat": 4,
 "nbformat_minor": 0
}
