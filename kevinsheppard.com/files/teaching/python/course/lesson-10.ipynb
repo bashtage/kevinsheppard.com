{
 "cells": [
  {
   "cell_type": "markdown",
   "metadata": {
    "collapsed": true,
    "pycharm": {
     "name": "#%% md\n"
    }
   },
   "source": [
    "# Graphics\n",
    "\n",
    "This lesson covers:\n",
    "\n",
    "* Basic plotting \n",
    "* Subplots \n",
    "* Histograms \n",
    "* Scatter Plots"
   ]
  },
  {
   "cell_type": "markdown",
   "metadata": {
    "collapsed": false
   },
   "source": [
    "Plotting in notebooks requires using a magic command, which starts with `%`, to initialize\n",
    "the plotting backend."
   ]
  },
  {
   "cell_type": "code",
   "execution_count": null,
   "metadata": {
    "pycharm": {
     "name": "#%%\n"
    }
   },
   "outputs": [],
   "source": [
    "# Setup\n",
    "%matplotlib inline"
   ]
  },
  {
   "cell_type": "markdown",
   "metadata": {
    "collapsed": false
   },
   "source": [
    "Begin by loading the data in hf.hdf. This data set contains high-frequency price data for IBM and MSFT\n",
    "on a single day stored as two Series. IBM is stored as 'IBM' in the HDF file, and MSFT is stored\n",
    "as 'MSFT."
   ]
  },
  {
   "cell_type": "code",
   "execution_count": null,
   "metadata": {},
   "outputs": [],
   "source": []
  },
  {
   "cell_type": "markdown",
   "metadata": {
    "collapsed": false
   },
   "source": [
    "## Problem: Basic Plotting\n",
    "\n",
    "1. Plot the `ibm` series which contains the price of IBM. \n",
    "2. Add a title and label the axes. \n",
    "3. Add markers and remove the line. "
   ]
  },
  {
   "cell_type": "code",
   "execution_count": null,
   "metadata": {},
   "outputs": [],
   "source": []
  },
  {
   "cell_type": "code",
   "execution_count": null,
   "metadata": {},
   "outputs": [],
   "source": []
  },
  {
   "cell_type": "code",
   "execution_count": null,
   "metadata": {},
   "outputs": [],
   "source": []
  },
  {
   "cell_type": "markdown",
   "metadata": {
    "collapsed": false
   },
   "source": [
    "## Problem: Subplot\n",
    "\n",
    "Create a 2 by 1 subplot with the price of IBM in the top subplot and the price of MSFT in the\n",
    "bottom subplot. "
   ]
  },
  {
   "cell_type": "code",
   "execution_count": null,
   "metadata": {},
   "outputs": [],
   "source": []
  },
  {
   "cell_type": "markdown",
   "metadata": {
    "collapsed": false
   },
   "source": [
    "## Problem: Plot with Dates\n",
    "\n",
    "Use `matplotlib` to directly plot `ibm` against its `index`. This is a repeat of a previous\n",
    "plot but shows how to use the `plot` command directly. "
   ]
  },
  {
   "cell_type": "code",
   "execution_count": null,
   "metadata": {},
   "outputs": [],
   "source": []
  },
  {
   "cell_type": "markdown",
   "metadata": {
    "collapsed": false
   },
   "source": [
    "## Problem: Histogram\n",
    "\n",
    "Produce a histogram of MSFT 1-minute returns (Hint: you have to produce the 1-minute Microsoft\n",
    "returns first using `resample` and `pct_change`)."
   ]
  },
  {
   "cell_type": "code",
   "execution_count": null,
   "metadata": {},
   "outputs": [],
   "source": []
  },
  {
   "cell_type": "markdown",
   "metadata": {
    "collapsed": false
   },
   "source": [
    "## Problem: Scatter Plot\n",
    "\n",
    "Scatter the 5-minute MSFT returns against the 5-minute IBM returns.\n",
    "\n",
    "*Hint*: You will need to create both 5-minute return series, merge them, and then plot using \n",
    "the combined DataFrame. "
   ]
  },
  {
   "cell_type": "code",
   "execution_count": null,
   "metadata": {},
   "outputs": [],
   "source": []
  }
 ],
 "metadata": {
  "kernelspec": {
   "display_name": "Python 3",
   "language": "python",
   "name": "python3"
  },
  "language_info": {
   "codemirror_mode": {
    "name": "ipython",
    "version": 3
   },
   "file_extension": ".py",
   "mimetype": "text/x-python",
   "name": "python",
   "nbconvert_exporter": "python",
   "pygments_lexer": "ipython3",
   "version": "3.7.4"
  },
  "pycharm": {
   "stem_cell": {
    "cell_type": "raw",
    "metadata": {
     "collapsed": false
    },
    "source": []
   }
  }
 },
 "nbformat": 4,
 "nbformat_minor": 0
}
