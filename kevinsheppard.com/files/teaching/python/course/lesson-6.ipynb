{
 "cells": [
  {
   "cell_type": "markdown",
   "metadata": {},
   "source": [
    "# Program Flow\n",
    "\n",
    "This lesson covers:\n",
    "\n",
    "* for loops \n",
    "* Nested loops \n",
    "\n"
   ]
  },
  {
   "cell_type": "markdown",
   "metadata": {},
   "source": [
    "## Problem: Basic For Loops\n",
    "\n",
    "Construct a for loop to sum the numbers between 1 and N for any N. A for loop that does nothing can be written\n",
    "\n",
    "```python\n",
    "n = 10\n",
    "for i in range(n):\n",
    "    pass\n",
    "```\n"
   ]
  },
  {
   "cell_type": "code",
   "execution_count": null,
   "metadata": {},
   "outputs": [],
   "source": []
  },
  {
   "cell_type": "markdown",
   "metadata": {},
   "source": [
    "## Problem: Compute a compound return\n",
    "The compound return on a bond that pays interest annually at rate r is given by \n",
    "$cr_{t}=\\prod_{i=1}^{T}(1+r)=(1+r)^{T}$. Use a for loop compute the total return for \n",
    "£100 invested today for $1,2,\\ldots,10$ years. Store this variable in a 10 by 1 vector cr. \n"
   ]
  },
  {
   "cell_type": "code",
   "execution_count": null,
   "metadata": {},
   "outputs": [],
   "source": []
  },
  {
   "cell_type": "markdown",
   "metadata": {},
   "source": [
    "## Problem: Simulate a random walk\n",
    "(Pseudo) Normal random variables can be simulated using the command\n",
    "`np.random.standard_normal(shape)` where `shape` is a tuple (or a scalar) containing the \n",
    "dimensions of the desired random numbers. Simulate 100 normals in a 100 by 1 vector and name \n",
    "the result `e`. Initialize a vector `p` containing zeros using the function zeros. Add the \n",
    "1st element of `e` to the first element of `p`. Use a for loop to simulate a process \n",
    "$y_{i}=y_{i-1}+e_{i}$. When finished plot the results using\n",
    "\n",
    "```python\n",
    "%matplotlib inline\n",
    "\n",
    "import matplotlib.pyplot as plt\n",
    "plt.plot(y)\n",
    "```\n"
   ]
  },
  {
   "cell_type": "code",
   "execution_count": null,
   "metadata": {},
   "outputs": [],
   "source": []
  },
  {
   "cell_type": "code",
   "execution_count": null,
   "metadata": {},
   "outputs": [],
   "source": []
  },
  {
   "cell_type": "markdown",
   "metadata": {},
   "source": [
    "## Problem: Nested Loops\n",
    "Begin by loading momentum data used in an earlier lesson. Begin by adding 1 to the returns to\n",
    "produce gross returns.A gross return is the total the value in the current period of £1 invested \n",
    "in the previous period. A net return subtracts the original investment to produce the net gain \n",
    "or loss. Use two loops to loop both across time and across the 10 portfolios to compute the \n",
    "total compound return. \n",
    "\n",
    "For example, if only interested in a single series,\n",
    "\n",
    "```python\n",
    "n = mom_01.shape[0]\n",
    "cr=np.zeros(n) \n",
    "gr = 1 + mom_01 \n",
    "cr[0] = 1+mom_01[0] \n",
    "for t in range(1, n):\n",
    "    cr[t]=cr[t-1]*gr[t] \n",
    "```\n",
    "computes the cumulative return.\n",
    "\n",
    "When finished, plot the cumulative returns using `plt.plot(cr)`. After finishing this problem,\n",
    "have a look at `np.cumsum?` and `np.cumprod?`. "
   ]
  },
  {
   "cell_type": "code",
   "execution_count": null,
   "metadata": {},
   "outputs": [],
   "source": [
    "# Setup: Load the momentum data\n",
    "\n",
    "import pandas as pd\n",
    "momentum = pd.read_csv('data/momentum.csv', index_col='date', parse_dates=True)\n",
    "momentum = momentum / 100  # Convert to numeric values from percentages\n",
    "# Convert to a plain numpy array\n",
    "momentum = momentum.to_numpy()"
   ]
  },
  {
   "cell_type": "code",
   "execution_count": null,
   "metadata": {},
   "outputs": [],
   "source": []
  },
  {
   "cell_type": "code",
   "execution_count": null,
   "metadata": {},
   "outputs": [],
   "source": []
  },
  {
   "cell_type": "markdown",
   "metadata": {},
   "source": [
    "## Exercises\n",
    "\n",
    "### Exercise\n",
    "1. Simulate a 1000 by 10 matrix consisting of 10 standard random walks using both nested loops\n",
    "   and `np.cumsum`. \n",
    "2. Plot the results. \n",
    "\n",
    "**Question to think about**\n",
    "\n",
    "If you rerun the code in this Exercise, do the results change? Why? "
   ]
  }
 ],
 "metadata": {
  "kernelspec": {
   "display_name": "Python 3",
   "language": "python",
   "name": "python3"
  },
  "language_info": {
   "codemirror_mode": {
    "name": "ipython",
    "version": 3
   },
   "file_extension": ".py",
   "mimetype": "text/x-python",
   "name": "python",
   "nbconvert_exporter": "python",
   "pygments_lexer": "ipython3",
   "version": "3.7.4"
  },
  "pycharm": {
   "stem_cell": {
    "cell_type": "raw",
    "metadata": {
     "collapsed": false
    },
    "source": []
   }
  }
 },
 "nbformat": 4,
 "nbformat_minor": 1
}
