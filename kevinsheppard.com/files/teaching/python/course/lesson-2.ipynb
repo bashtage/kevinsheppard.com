{
 "cells": [
  {
   "cell_type": "markdown",
   "metadata": {},
   "source": [
    "# Getting Started\n",
    "\n",
    "This lesson covers:\n",
    "\n",
    "* Opening a terminal window\n",
    "* Launching Jupyter notebook\n",
    "* Running IPython in a Terminal\n",
    "* Running IPython in Jupyter QtConsole\n",
    "* Executing a standalone Python file in IPython\n",
    "* Optional\n",
    "  * Jupyter notebooks in [VSCode](https://code.visualstudio.com/docs/python/jupyter-support)\n",
    "  * Jupyter notebooks in [PyCharm Professional](https://jetbrains.com/student/)"
   ]
  },
  {
   "cell_type": "markdown",
   "metadata": {},
   "source": [
    "## Opening a Terminal\n",
    "\n",
    "### Windows\n",
    "\n",
    "**Note**: I strong recommend that you install \n",
    "[Windows Terminal (Preview)](https://www.microsoft.com/en-gb/p/windows-terminal-preview/9n0dx20hk701) from the Microsoft Store. You\n",
    "should run these commands in the `cmd` tab.\n",
    "\n",
    "On Windows, you should launch *Windows Terminal (Preview)*. Alternatively you could run cmd.exe. \n",
    "\n",
    "### OSX\n",
    "Launch Terminal.app from spotlight.\n",
    "\n",
    "### Linux \n",
    "Open the terminal (instructions depend on your distribution)."
   ]
  },
  {
   "cell_type": "markdown",
   "metadata": {},
   "source": [
    "## Launching Jupyter notebook\n",
    "\n",
    "1. Open a terminal\n",
    "2. Change directory to the location where you store your notebooks.  It can also be any directory above the directory, but\n",
    "   cannot be below. For example, if you store your work in /home/username/mfe/financial-econometrics/notebooks, than you could \n",
    "   launch it in /home/username or /home/username/mfe/financial-econometrics, and then navigate to the notebooks directory.\n",
    "3. Run the command `jupyter notebook`. You should see a browser open and a window like the one below. I recommend using \n",
    "   [Google Chrome](https://www.google.com/chrome/), although any modern browser should work fine.\n",
    "\n",
    "**Note**: To close the notebook application, press CTRL+C (or CMD+C) in the terminal window.\n",
    "\n",
    "![Jupyter Notebook](images/jupyter-notebook.png \"Jupyter Notebook\")"
   ]
  },
  {
   "cell_type": "markdown",
   "metadata": {},
   "source": [
    "## Running IPython in a Terminal\n",
    "\n",
    "1. Open a terminal.\n",
    "2. Run IPython by entering `ipython` in the terminal window. You should see a \n",
    "window like the one below with the iconic `In [1]` indicating that you are at \n",
    "the start of a new IPython session.\n",
    "\n",
    "![IPython in Windows Terminal](images/ipython-windows.png \"IPython in Windows Terminal\")"
   ]
  },
  {
   "cell_type": "markdown",
   "metadata": {},
   "source": [
    "## Launching IPython in Jupyter QtConsole\n",
    "\n",
    "Anaconda includes a QtConsole application which provides a rich interface to IPython that can display images inline. While I like\n",
    "the experience that QtConsole provides to IPython, this method is optional and is only ideal for short sessions since it is less easy\n",
    "to save your work as you go.\n",
    "\n",
    "To open QtConsole, launch Jupyter QtConsole from the Start menu, Spotlight, or your operating system's launcher. You should see\n",
    "a window like the one below.\n",
    "\n",
    "![IPython QtConsole](images/ipython-qtconsole.png \"IPython QtConsole\")"
   ]
  },
  {
   "cell_type": "markdown",
   "metadata": {},
   "source": [
    "## Executing a standalone Python file in IPython\n",
    "\n",
    "1. Open a text editor and enter the following lines. Save the file as lesson-2.py. \n",
    "   Note that Python is white-space sensitive, and so these lines should **not** not indented.\n",
    "\n",
    "```python\n",
    "from math import exp, log\n",
    "\n",
    "x = exp(1)\n",
    "y = log(x)\n",
    "\n",
    "print(f'exp(1)={x}, log(exp(1))={y}')\n",
    "```\n",
    "\n",
    "2. Run the code in an IPython session using `%run -i lesson-2.py`.  Note: you should create the python file in the same directory as the notebook. \n",
    "\n",
    "If everything works as expected, you should see\n",
    "\n",
    "```python\n",
    "exp(1)=2.718281828459045, log(exp(1))=1.0\n",
    "```"
   ]
  },
  {
   "cell_type": "markdown",
   "metadata": {},
   "source": [
    "## Jupyter notebooks in PyCharm Professional\n",
    "\n",
    "<div class=\"alert alert-info\">\n",
    "PyCharm Professions is my recommended approach if you are going to use Python throughout the course.\n",
    "It provides the best experience and can be acquired for free using the student program.\n",
    "</div>\n",
    "\n",
    "PyCharm Professions has deeply integrated Jupyter Notebooks. To create an IPython\n",
    "notebook:\n",
    "\n",
    "1. Open PyCharm Profession\n",
    "2. Open the directory where your notebooks are stored\n",
    "3. Right click on the root directory and select `New > Jupyter Notebook`. Give your file a\n",
    "   meaningful name, and it will open in the main window.\n",
    "\n",
    "![PyCharm New Notebook](images/pycharm-new-notebook.png \"PyCharm New Notebook\")\n",
    "\n",
    "PyCharm uses a special syntax where cells look like code and so can be edited like text. This \n",
    "allows PyCharm to use introspection and code completion on wht code you have written, a highly\n",
    "useful set of features. PyCharm stores the notebook in a Jupyter notebook file (`.ipynb`), which means that you \n",
    "can trivially open it in any other Jupyter notebook aware app.  This differs from [VS code](#jupyter-notebooks-in-vsCode)\n",
    "which stores the file as a play Python file (`.py`) and requires an explicit export to \n",
    "a Jupyter notebook file. \n",
    "\n",
    "A code cell is demarcated using `#%%` and a markdown cell begins with `#%% md`.  Below is a screenshot\n",
    "of this notebook in PyCharm.\n",
    "\n",
    "![PyCharm Notebook](images/pycharm-notebook.png \"Pycharm Notebook\")\n",
    "\n",
    "### Magic Python in PyCharm\n",
    "PyCharm supports Magic Python cell execution. To use Magic Python, you need to enable\n",
    "*Scientific Mode* in the View menu. You can then use `#%%` to indicate the start and end of cells.\n",
    "Individual Cells can be executed in the console by pressing CTRL+Enter.\n",
    "\n",
    "1. In PyCharm, right click on the root directory and select `New > Python File`. Give you file a \n",
    "   meaning ful name.\n",
    "2. Enter\n",
    "   ```python\n",
    "   #%%\n",
    "   print('This is the first cell')\n",
    "   \n",
    "   #%%\n",
    "   print('This is not executed when the first cell is run') \n",
    "   ```\n",
    "3. Enable Scientific Mode in the View menu.\n",
    "4. Run the first cell by placing you mouse in the cell and pressing CTRL+Enter.\n",
    "5. Run the second cell by clicking on the Play button (arrow) that appears in the gutter of the editor.\n",
    "\n",
    "<div class=\"alert alert-warning\">\n",
    "<b>Note:</b> Magic Python in PyCharm only supports python code, and so it is not possible to mix\n",
    "Markdown text and Python in the same file.\n",
    "</div>\n",
    "   "
   ]
  },
  {
   "cell_type": "markdown",
   "metadata": {},
   "source": [
    "## Jupyter notebooks in VSCode\n",
    "\n",
    "[Visual Studio Code](https://code.visualstudio.com/) (or VS Code) is a lightweight IDE that \n",
    "supports adding features through extensions.  The key extension for working with notebooks\n",
    "is [Python extension for Visual Studio Code](https://marketplace.visualstudio.com/items?itemName=ms-python.python).\n",
    "With this extension installed, it is possible to use a special file format called Magic Python\n",
    "to write notebook-like files that can be exported to Jupyter notebook files.  \n",
    "\n",
    "1. Install VS Code and the Python extension\n",
    "2. Open the command palette and enter \"Jupyter start\" and select the only available item.\n",
    "3. This is a Python file that support a cell demarcation using `#%%` for code cells and `#%% [markdown]` \n",
    "   for cells that contain markdown code.  Note that markdown text **must** be either:\n",
    "   \n",
    "   * Surrounded by triple quotes, e.g. `\"\"\"markdown text\"\"\"` or `'''markdown text'''`; e.g., \n",
    "    ```python\n",
    "    \"\"\"\n",
    "    # Cell Heading\n",
    "    \n",
    "    Likeness darkness. That give brought creeping. Doesn't may. Fruit kind \n",
    "    midst seed. Creature, let under created void god to. Them day was Was\n",
    "    creature set it from. Fourth. Created don't man. Man. Light fourth\n",
    "    light given the he image first multiply after deep she'd great. Morning \n",
    "    likeness very have give also fowl third land beast from moving thing\n",
    "    creepeth herb creeping won't fifth. Us bring was our beast wherein our\n",
    "    void and green he fruit kind upon a given, saying fruit, moveth face \n",
    "    forth. His you it. Good beginning hath.\n",
    "    \"\"\"\n",
    "    ```\n",
    "\n",
    "   * Or commented `# ` (with a single space) at the start of each line,\n",
    "    ```python\n",
    "    # # Cell Heading\n",
    "    #\n",
    "    # Likeness darkness. That give brought creeping. Doesn't may. Fruit kind \n",
    "    # midst seed. Creature, let under created void god to. Them day was Was\n",
    "    # creature set it from. Fourth. Created don't man. Man. Light fourth\n",
    "    # light given the he image first multiply after deep she'd great. Morning \n",
    "    # likeness very have give also fowl third land beast from moving thing\n",
    "    # creepeth herb creeping won't fifth. Us bring was our beast wherein our\n",
    "    # void and green he fruit kind upon a given, saying fruit, moveth face \n",
    "    # forth. His you it. Good beginning hath.\n",
    "    ```\n",
    "\n",
    "The cells have a special button above them that allows the contents to be\n",
    "executed and the result to be displayed in the interactive window. See the screenshot \n",
    "below for an example of the experience of using VS Code. There is also an interactive \n",
    "console at the bottom left where commands can be directly executed.\n",
    "\n",
    "![VS Code Notebook](images/vscode-notebook.png \"VS Code Notebook\")\n"
   ]
  },
  {
   "cell_type": "markdown",
   "metadata": {},
   "source": [
    "### Importing an exiting notebook in VS Code\n",
    "\n",
    "VS Code only understands Magic Python files as notebook-like documents, and so\n",
    "`.ipynb` files must be converted to use. The process of importing is simple:\n",
    "\n",
    "1. Open a Jupyter notebook file\n",
    "2. Click on Import in the popup that appears.\n",
    "\n",
    "![VS Code Export](images/vscode-export.png \"VS Code Export\")"
   ]
  },
  {
   "cell_type": "markdown",
   "metadata": {},
   "source": [
    "### Exporting to an Jupyter notebook\n",
    "\n",
    "To export a Magic Python file, open the command palette and enter \"import jupyter\". Select the option to import\n",
    "the notebook.\n",
    "\n",
    "![VS Code Import](images/vscode-import.png \"VS Code Import\")"
   ]
  }
 ],
 "metadata": {
  "file_extension": ".py",
  "kernelspec": {
   "display_name": "Python 3",
   "language": "python",
   "name": "python3"
  },
  "language_info": {
   "codemirror_mode": {
    "name": "ipython",
    "version": 3
   },
   "file_extension": ".py",
   "mimetype": "text/x-python",
   "name": "python",
   "nbconvert_exporter": "python",
   "pygments_lexer": "ipython3",
   "version": "3.7.4"
  },
  "mimetype": "text/x-python",
  "name": "python",
  "npconvert_exporter": "python",
  "pycharm": {
   "stem_cell": {
    "cell_type": "raw",
    "metadata": {
     "collapsed": false
    },
    "source": []
   }
  },
  "pygments_lexer": "ipython3",
  "version": 3
 },
 "nbformat": 4,
 "nbformat_minor": 2
}
