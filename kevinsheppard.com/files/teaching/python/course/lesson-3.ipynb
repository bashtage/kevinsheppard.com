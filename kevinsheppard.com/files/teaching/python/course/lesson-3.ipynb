{
 "cells": [
  {
   "cell_type": "markdown",
   "metadata": {
    "collapsed": true,
    "pycharm": {
     "name": "#%% md\n"
    }
   },
   "source": [
    "# Basic Input and Operators\n",
    "\n",
    "This lesson covers:\n",
    "\n",
    "* Manually inputting data in scalars, vectors and matrices \n",
    "* Basic mathematical operations \n",
    "* Saving and loading data \n",
    "\n",
    "<a id=\"stock-data\"></a>\n",
    "## Data\n",
    "September 2018 prices (adjusted closing prices) for the S&P 500 EFT (SPY), Apple (AAPL) and \n",
    "Google (GOOG) are listed below:\n",
    "\n",
    "\n",
    "\n",
    "| Date   | SPY Price | AAPL Price | GOOG Price | \n",
    "|:-------|----------:|-----------:|-----------:| \n",
    "| Sept4  | 289.81    | 228.36     | 1197.00    | \n",
    "| Sept5  | 289.03    | 226.87     | 1186.48    | \n",
    "| Sept6  | 288.16    | 223.10     | 1171.44    | \n",
    "| Sept7  | 287.60    | 221.30     | 1164.83    | \n",
    "| Sept10 | 288.10    | 218.33     | 1164.64    | \n",
    "| Sept11 | 289.05    | 223.85     | 1177.36    | \n",
    "| Sept12 | 289.12    | 221.07     | 1162.82    | \n",
    "| Sept13 | 290.83    | 226.41     | 1175.33    | \n",
    "| Sept14 | 290.88    | 223.84     | 1172.53    | \n",
    "| Sept17 | 289.34    | 217.88     | 1156.05    | \n",
    "| Sept18 | 290.91    | 218.24     | 1161.22    | \n",
    "| Sept19 | 291.44    | 216.64     | 1158.78    | \n",
    "\n",
    "**Prices in September 2018**\n",
    " "
   ]
  },
  {
   "cell_type": "markdown",
   "metadata": {
    "pycharm": {
     "name": "#%% md\n"
    }
   },
   "source": [
    "## Problem: Input scalar data\n",
    "\n",
    "Create 3 variables, one labeled `spy`, one labeled `aapl` and one labeled `goog` that contain the\n",
    "September 4 price of the asset. For example, to enter the Google data\n",
    "```python\n",
    "goog = 1197.00\n",
    "```"
   ]
  },
  {
   "cell_type": "code",
   "execution_count": null,
   "metadata": {},
   "outputs": [],
   "source": []
  },
  {
   "cell_type": "markdown",
   "metadata": {
    "pycharm": {
     "name": "#%% md\n"
    }
   },
   "source": [
    "## Problem: Print the values\n",
    "Print the values of the 3 variables you created in the previous step using `print`."
   ]
  },
  {
   "cell_type": "code",
   "execution_count": null,
   "metadata": {},
   "outputs": [],
   "source": []
  },
  {
   "cell_type": "markdown",
   "metadata": {},
   "source": [
    "## Problem: Print the values with formatting\n",
    "Print the values of the 3 variables you created in the previous step using format strings following\n",
    "the pattern TICKER: Value. For example, you can print the value of Google using `print(f'GOOG: {goog}')`."
   ]
  },
  {
   "cell_type": "code",
   "execution_count": null,
   "metadata": {},
   "outputs": [],
   "source": []
  },
  {
   "cell_type": "markdown",
   "metadata": {
    "pycharm": {
     "name": "#%% md\n"
    }
   },
   "source": [
    "## Problem: Input a Vector\n",
    "\n",
    "Create vectors for each of the days in the [Table](#stock-data) named `sep_xx` where `xx` is the \n",
    "numeric date. For example,  \n",
    "```python\n",
    "import pandas as pd\n",
    "\n",
    "sep_04 = pd.Series([289.81,228.36,1197.00], index=['SPY','AAPL','GOOG']);\n",
    "```"
   ]
  },
  {
   "cell_type": "code",
   "execution_count": null,
   "metadata": {},
   "outputs": [],
   "source": []
  },
  {
   "cell_type": "markdown",
   "metadata": {},
   "source": [
    "## Problem: Create a Vector of Dates\n",
    "\n",
    "Use the pandas function `pd.to_datetime` to convert a list of string dates to a pandas \n",
    "`DateTimeIndex`, which can be used to set dates in other arrays. For example, the first two dates \n",
    "are\n",
    "```python\n",
    "dates_2 = pd.to_datetime(['4-9-2018','5-9-2018'])\n",
    "print(dates_2)\n",
    "```\n",
    "which produces\n",
    "```python\n",
    "DatetimeIndex(['2018-04-09', '2018-05-09'], dtype='datetime64[ns]', freq=None)\n",
    "```\n",
    "\n",
    "Create a vector containing all of the dates in the table."
   ]
  },
  {
   "cell_type": "code",
   "execution_count": null,
   "metadata": {},
   "outputs": [],
   "source": []
  },
  {
   "cell_type": "markdown",
   "metadata": {},
   "source": [
    "## Problem: Input a Vector with Dates\n",
    "\n",
    "Create vectors for each of the ticker symbols in [Table](#stock-data) named spy, aapl and \n",
    "goog, respectively. Use the variable `dates` that you created in the previous step. \n",
    "\n",
    "For example\n",
    "\n",
    "```python\n",
    "goog = pd.Series([1197.00,1186.48,1171.44,...], index=dates)\n",
    "```"
   ]
  },
  {
   "cell_type": "code",
   "execution_count": null,
   "metadata": {},
   "outputs": [],
   "source": []
  },
  {
   "cell_type": "markdown",
   "metadata": {},
   "source": [
    "# Problem: Create a DataFrame\n",
    "\n",
    "Create a DataFrame named `prices` containing [Table](#stock-data). Set the column names equal to \n",
    "the ticker and set the index to the dates you created previously.\n",
    "\n",
    "```python\n",
    "prices = pd.DataFrame([[289.81, 228.36, 1197.00], [289.03, 226.87, 1186.48]],\n",
    "                      columns = ['SPY', 'AAPL', 'GOOG'],index=dates_2)\n",
    "```"
   ]
  },
  {
   "cell_type": "code",
   "execution_count": null,
   "metadata": {},
   "outputs": [],
   "source": []
  },
  {
   "cell_type": "code",
   "execution_count": null,
   "metadata": {},
   "outputs": [],
   "source": []
  },
  {
   "cell_type": "code",
   "execution_count": null,
   "metadata": {},
   "outputs": [],
   "source": []
  },
  {
   "cell_type": "markdown",
   "metadata": {},
   "source": [
    "## Problem: Construct a DataFrame from Series\n",
    "\n",
    "DataCreate a second DataFrame named prices_row from the row vectors previously entered such that \n",
    "the results are identical to prices. For example, the first two days worth of data are\n",
    "\n",
    "```python\n",
    "pricess_row = pd.DataFrame([Sep04, Sep05])\n",
    "# Set the index after using concat to join\n",
    "pricess_row.index = dates_2\n",
    "```\n",
    "\n",
    "Create a third DataFrame named prices_col from the 3 column vectors entered such that the results \n",
    "are identical to prices\n",
    "```python\n",
    "prices_col = pd.DataFrame([SPY,APPL,GOOG]).T\n",
    "```\n",
    "\n",
    "*Note*: The `.T` above is transposes the 2-d array since `DataFrame` builds the array by rows.\n",
    "\n",
    "Verify that all three matrices are identical by printing the difference, e.g., \n",
    "\n",
    "```python\n",
    "print(pricescol - prices)\n",
    "```\n",
    "\n",
    "and that all elements are 0. "
   ]
  },
  {
   "cell_type": "code",
   "execution_count": null,
   "metadata": {},
   "outputs": [],
   "source": []
  },
  {
   "cell_type": "markdown",
   "metadata": {},
   "source": [
    "## Problem: Saving Data \n",
    "Save the prices DataFrame to a pickle using `prices.to_pickle('prices.pkl')`.\n",
    "\n",
    "Delete the `prices` variable using `del prices`, and then load it back using \n",
    "`prices = pd.load_pickle('prices.pkl')`. Finally print the loaded data to verify it is the same."
   ]
  },
  {
   "cell_type": "code",
   "execution_count": null,
   "metadata": {},
   "outputs": [],
   "source": []
  },
  {
   "cell_type": "markdown",
   "metadata": {},
   "source": [
    "## Problem: Addition and Subtraction\n",
    "\n",
    "Add the prices of the three series together using `.sum(axis=1)`. Add the prices in `sep_04` to \n",
    "the prices of `goog`. What happens? "
   ]
  },
  {
   "cell_type": "code",
   "execution_count": null,
   "metadata": {},
   "outputs": [],
   "source": []
  },
  {
   "cell_type": "code",
   "execution_count": null,
   "metadata": {},
   "outputs": [],
   "source": []
  },
  {
   "cell_type": "markdown",
   "metadata": {},
   "source": [
    "## Problem: Multiplication\n",
    "\n",
    "Multiply the price of Google by 2. "
   ]
  },
  {
   "cell_type": "code",
   "execution_count": null,
   "metadata": {},
   "outputs": [],
   "source": []
  },
  {
   "cell_type": "markdown",
   "metadata": {},
   "source": [
    "## Problem: Constructing portfolio returns\n",
    "Set up a vector or portfolio weights $w=\\left(\\frac{1}{3},\\,\\frac{1}{3}\\,,\\frac{1}{3}\\right)$ and \n",
    "compute the price of a portfolio with $\\frac{1}{3}$ share of each.\n",
    "\n",
    "*Note*: Division uses the slash operator (/). "
   ]
  },
  {
   "cell_type": "code",
   "execution_count": null,
   "metadata": {},
   "outputs": [],
   "source": []
  },
  {
   "cell_type": "markdown",
   "metadata": {},
   "source": [
    "## Problem: Compute Returns\n",
    "\n",
    "Compute returns using \n",
    "\n",
    "```python\n",
    "returns = prices.pct_change()\n",
    "```\n",
    "\n",
    "which computes the percentage change.\n",
    "\n",
    "Additionally, extract returns for each name using \n",
    "\n",
    "```python\n",
    "spy_returns = returns['SPY']\n",
    "```\n"
   ]
  },
  {
   "cell_type": "code",
   "execution_count": null,
   "metadata": {},
   "outputs": [],
   "source": []
  },
  {
   "cell_type": "code",
   "execution_count": null,
   "metadata": {},
   "outputs": [],
   "source": []
  },
  {
   "cell_type": "code",
   "execution_count": null,
   "metadata": {},
   "outputs": [],
   "source": []
  },
  {
   "cell_type": "markdown",
   "metadata": {},
   "source": [
    "## Problem: Compute Log Returns\n",
    "\n",
    "```python\n",
    "import numpy as np\n",
    "\n",
    "log_returns = np.log(prices).diff()\n",
    "```\n",
    "\n",
    "first difference of the natural log of the prices. Mathematically this is \n",
    "$r_{t}=\\ln\\left(P_{t}\\right)-\\ln\\left(P_{t-1}\\right)=\\ln\\left(\\frac{P_{t}}{P_{t-1}}\\right)\\approx\\frac{P_{t}}{P_{t-1}}-1$."
   ]
  },
  {
   "cell_type": "code",
   "execution_count": null,
   "metadata": {},
   "outputs": [],
   "source": []
  },
  {
   "cell_type": "markdown",
   "metadata": {},
   "source": [
    "## Problem: Mean, Standard Deviation and Correlation\n",
    "\n",
    "Using the function mean, compute the mean of the three returns series one at a time. For example  \n",
    "```python\n",
    "goog_mean = goog_returns.mean()\n",
    "```\n",
    "Next, compute the mean of the matrix of returns using  \n",
    "\n",
    "```python\n",
    "retmean = returns.mean()\n",
    "```\n",
    "\n",
    "What is the relationship between these two? Repeat this exercise for the standard deviation (`std()`).\n",
    "Finally, compute the correlation of the matrix of returns (`corr()`). "
   ]
  },
  {
   "cell_type": "code",
   "execution_count": null,
   "metadata": {},
   "outputs": [],
   "source": []
  },
  {
   "cell_type": "code",
   "execution_count": null,
   "metadata": {},
   "outputs": [],
   "source": []
  },
  {
   "cell_type": "code",
   "execution_count": null,
   "metadata": {},
   "outputs": [],
   "source": []
  },
  {
   "cell_type": "code",
   "execution_count": null,
   "metadata": {},
   "outputs": [],
   "source": []
  },
  {
   "cell_type": "markdown",
   "metadata": {},
   "source": [
    "## Problem: Summing all elements\n",
    "\n",
    "Compute the sum of the columns of returns using `.sum()`. How is this related to the mean computed \n",
    "in the previous step? "
   ]
  },
  {
   "cell_type": "code",
   "execution_count": null,
   "metadata": {},
   "outputs": [],
   "source": []
  },
  {
   "cell_type": "code",
   "execution_count": null,
   "metadata": {},
   "outputs": [],
   "source": []
  },
  {
   "cell_type": "markdown",
   "metadata": {},
   "source": [
    "## Problem: Maximum and Minimum Values\n",
    "Compute the minimum and maximum values of the columns of returns using the `min()` and `max()` commands. "
   ]
  },
  {
   "cell_type": "code",
   "execution_count": null,
   "metadata": {},
   "outputs": [],
   "source": []
  },
  {
   "cell_type": "code",
   "execution_count": null,
   "metadata": {},
   "outputs": [],
   "source": []
  },
  {
   "cell_type": "markdown",
   "metadata": {},
   "source": [
    "## Problem: Rounding Up, Down and to the Closest Integer\n",
    "\n",
    "Rounding up is handled by ceil, rounding down is handled by floor and rounding to the closest \n",
    "integer is handled by round. Try all of these commands on 100 times returns. For example,  \n",
    "```python\n",
    "rounded = (100*returns).round()\n",
    "``` \n",
    "\n",
    "Use `ceil` and `floor` to always round up and down, respectively."
   ]
  },
  {
   "cell_type": "code",
   "execution_count": null,
   "metadata": {},
   "outputs": [],
   "source": []
  },
  {
   "cell_type": "code",
   "execution_count": null,
   "metadata": {},
   "outputs": [],
   "source": []
  },
  {
   "cell_type": "code",
   "execution_count": null,
   "metadata": {},
   "outputs": [],
   "source": []
  },
  {
   "cell_type": "markdown",
   "metadata": {},
   "source": [
    "## Problem: Element-by-Element Multiplication\n",
    "\n",
    "Mathematical commands in Python are element-by-element, except the `@` operator which is matrix \n",
    "multiplication and uses the rules of linear algebra. \n",
    "\n",
    "Multiply the returns of Google and SPY together using the dot operator. "
   ]
  },
  {
   "cell_type": "code",
   "execution_count": null,
   "metadata": {},
   "outputs": [],
   "source": []
  },
  {
   "cell_type": "markdown",
   "metadata": {},
   "source": [
    "## Problem: Save Everything\n",
    "Save everything created using `dill`\n",
    "\n",
    "```python\n",
    "import dill\n",
    "\n",
    "dill.dump_session('lesson-3.dill')\n",
    "```\n",
    "\n",
    "You can load everything using `dill.load_session('lesson-3.dill')` later if you want to get \n",
    "the data back."
   ]
  },
  {
   "cell_type": "code",
   "execution_count": null,
   "metadata": {},
   "outputs": [],
   "source": []
  }
 ],
 "metadata": {
  "kernelspec": {
   "display_name": "Python 3",
   "language": "python",
   "name": "python3"
  },
  "language_info": {
   "codemirror_mode": {
    "name": "ipython",
    "version": 3
   },
   "file_extension": ".py",
   "mimetype": "text/x-python",
   "name": "python",
   "nbconvert_exporter": "python",
   "pygments_lexer": "ipython3",
   "version": "3.7.4"
  },
  "pycharm": {
   "stem_cell": {
    "cell_type": "raw",
    "metadata": {
     "collapsed": false
    },
    "source": []
   }
  }
 },
 "nbformat": 4,
 "nbformat_minor": 1
}
