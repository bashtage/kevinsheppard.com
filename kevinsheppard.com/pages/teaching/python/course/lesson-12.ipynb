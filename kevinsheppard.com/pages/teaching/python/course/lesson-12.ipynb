{
 "cells": [
  {
   "cell_type": "markdown",
   "metadata": {
    "collapsed": true,
    "pycharm": {
     "name": "#%% md\n"
    }
   },
   "source": [
    "#%%\n",
    "# Numeric Indexing of DataFrames\n",
    "\n",
    "This lesson covers:\n",
    "\n",
    "* Accessing specific elements in DataFrames using numeric indices\n",
    "\n",
    "Accessing elements in a DataFrame is a common task. To begin this lesson,\n",
    "clear the workspace set up some vectors and a $5\\times5$ array. These vectors\n",
    "and matrix will make it easy to determine which elements are selected by a\n",
    "command.\n",
    "\n",
    "Begin by creating:\n",
    "\n",
    "* A 5-by-5 DataFrame `x_df` containing `np.arange(25).reshape((5,5))`.\n",
    "* A 5-element Series `y_s` containing `np.arange(5)`.\n",
    "* A 5-by-5 DataFrame `x_named` that is `x_df` with columns \"c0\", \"c1\", ...,\n",
    "  \"c4\" and rows \"r0\", \"r1\", ..., \"r4\".\n",
    "* A 5-element Series `y_named` with index \"r0\", \"r1\", ..., \"r4\". "
   ]
  },
  {
   "cell_type": "code",
   "execution_count": null,
   "metadata": {},
   "outputs": [],
   "source": [
    "#%%\n"
   ]
  },
  {
   "cell_type": "markdown",
   "metadata": {
    "collapsed": false,
    "pycharm": {
     "name": "#%% md\n"
    }
   },
   "source": [
    "#%%\n",
    "## Problem: Picking an Element out of a DataFrame\n",
    "\n",
    "Using double index notation, select the (0,2) and the (2,0) element of\n",
    "`x_named`."
   ]
  },
  {
   "cell_type": "code",
   "execution_count": null,
   "metadata": {},
   "outputs": [],
   "source": [
    "#%%\n"
   ]
  },
  {
   "cell_type": "markdown",
   "metadata": {
    "collapsed": false,
    "pycharm": {
     "name": "#%% md\n"
    }
   },
   "source": [
    "#%%\n",
    "## Problem: Select Elements from Series\n",
    "\n",
    "Select the 2nd element of `y_named`."
   ]
  },
  {
   "cell_type": "code",
   "execution_count": null,
   "metadata": {},
   "outputs": [],
   "source": [
    "#%%\n"
   ]
  },
  {
   "cell_type": "markdown",
   "metadata": {
    "collapsed": false
   },
   "source": [
    "#%%\n",
    "## Problem: Selecting Rows as Series\n",
    "\n",
    "Select the 2nd row of `x_named` using the colon (:) operator.\n"
   ]
  },
  {
   "cell_type": "code",
   "execution_count": null,
   "metadata": {},
   "outputs": [],
   "source": [
    "#%%\n"
   ]
  },
  {
   "cell_type": "markdown",
   "metadata": {
    "collapsed": false,
    "pycharm": {
     "name": "#%% md\n"
    }
   },
   "source": [
    "#%%\n",
    "## Problem: Selecting Rows as DataFrames\n",
    "\n",
    "1. Select the 2nd row of `x_named` using a slice so that the selection\n",
    "   remains a DataFrame.\n",
    "2. Repeat using a list of indices to retain the DataFrame. \n"
   ]
  },
  {
   "cell_type": "code",
   "execution_count": null,
   "metadata": {},
   "outputs": [],
   "source": [
    "#%%\n"
   ]
  },
  {
   "cell_type": "code",
   "execution_count": null,
   "metadata": {},
   "outputs": [],
   "source": [
    "#%%\n"
   ]
  },
  {
   "cell_type": "markdown",
   "metadata": {
    "collapsed": false
   },
   "source": [
    "#%%\n",
    "## Problem: Selecting Entire Columns as Series\n",
    "Select the 2nd column of `x_named` using the colon (:) operator. "
   ]
  },
  {
   "cell_type": "code",
   "execution_count": null,
   "metadata": {},
   "outputs": [],
   "source": [
    "#%%\n"
   ]
  },
  {
   "cell_type": "markdown",
   "metadata": {
    "collapsed": false,
    "pycharm": {
     "name": "#%% md\n"
    }
   },
   "source": [
    "#%%\n",
    "## Problem: Selecting Single Columns as DataFrames\n",
    "Select the 2nd column of `x_named`  so that the selection remains a DataFrame. \n"
   ]
  },
  {
   "cell_type": "code",
   "execution_count": null,
   "metadata": {},
   "outputs": [],
   "source": [
    "#%%\n"
   ]
  },
  {
   "cell_type": "code",
   "execution_count": null,
   "metadata": {},
   "outputs": [],
   "source": [
    "#%%\n"
   ]
  },
  {
   "cell_type": "markdown",
   "metadata": {
    "collapsed": false
   },
   "source": [
    "#%%\n",
    "## Problem: Selecting Specific Columns\n",
    "Select the 2nd and 3rd columns of `x_named` using a slice."
   ]
  },
  {
   "cell_type": "code",
   "execution_count": null,
   "metadata": {},
   "outputs": [],
   "source": [
    "#%%\n"
   ]
  },
  {
   "cell_type": "markdown",
   "metadata": {
    "collapsed": false,
    "pycharm": {
     "name": "#%% md\n"
    }
   },
   "source": [
    "#%%\n",
    "## Problem: Select Specific Rows\n",
    "\n",
    "Select the 2nd and 4th rows of `x_named` using a slice.  Repeat the \n",
    "selection using a list of integers."
   ]
  },
  {
   "cell_type": "code",
   "execution_count": null,
   "metadata": {},
   "outputs": [],
   "source": [
    "#%%\n"
   ]
  },
  {
   "cell_type": "code",
   "execution_count": null,
   "metadata": {},
   "outputs": [],
   "source": [
    "#%%\n"
   ]
  },
  {
   "cell_type": "markdown",
   "metadata": {
    "collapsed": false
   },
   "source": [
    "#%%\n",
    "## Problem: Select arbitrary rows and columns\n",
    "\n",
    "Combine the previous selections to select columns 2 and 3 and rows 2 and 4\n",
    "of `x_named`. \n",
    "\n",
    "**Note**: This is the only important difference with NumPy.  Arbitrary\n",
    "row/column selection using `DataFrame.iloc` is simpler but less flexible.\n",
    "\n",
    "print(x_named.iloc[1:4:2, 1:3])\n",
    "print(x_named.iloc[[1, 3],[1, 2]])\n",
    "print(x_named.iloc[[1,3], 1:3])"
   ]
  },
  {
   "cell_type": "markdown",
   "metadata": {
    "collapsed": false,
    "pycharm": {
     "name": "#%% md\n"
    }
   },
   "source": [
    "#%%\n",
    "## Problem: Mixed selection\n",
    "\n",
    "Select the columns c1 and c2 and rows 0, 2 and 4."
   ]
  },
  {
   "cell_type": "code",
   "execution_count": null,
   "metadata": {},
   "outputs": [],
   "source": [
    "#%%\n"
   ]
  },
  {
   "cell_type": "markdown",
   "metadata": {
    "collapsed": false
   },
   "source": [
    "#%%\n",
    "## Problem: Mixed selection 2\n",
    "\n",
    "Select the rows r1 and r2 and columns 0, 2 and 4."
   ]
  },
  {
   "cell_type": "code",
   "execution_count": null,
   "metadata": {},
   "outputs": [],
   "source": [
    "#%%\n"
   ]
  }
 ],
 "metadata": {
  "kernelspec": {
   "display_name": "Python 3",
   "language": "python",
   "name": "python3"
  },
  "language_info": {
   "codemirror_mode": {
    "name": "ipython",
    "version": 3
   },
   "file_extension": ".py",
   "mimetype": "text/x-python",
   "name": "python",
   "nbconvert_exporter": "python",
   "pygments_lexer": "ipython3",
   "version": "3.7.4"
  },
  "nikola": {
   "category": "teaching",
   "date": "2019-09-04 17:18:32 UTC+01:00",
   "description": "",
   "link": "",
   "slug": "lesson-12",
   "tags": "",
   "title": "Lesson 12",
   "type": "text"
  },
  "pycharm": {
   "stem_cell": {
    "cell_type": "raw",
    "metadata": {
     "collapsed": false
    },
    "source": []
   }
  }
 },
 "nbformat": 4,
 "nbformat_minor": 0
}
