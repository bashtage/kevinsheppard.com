{
 "cells": [
  {
   "cell_type": "markdown",
   "metadata": {
    "collapsed": false
   },
   "source": [
    "# Accessing Elements\n",
    "\n",
    "This lesson covers:\n",
    "\n",
    "* Accessing specific elements in NumPy arrays\n",
    "* Assessing specific elements in Pandas Series and DataFrames \n",
    "\n",
    "Accessing elements in an array or a DataFrame is a common task. To begin this lesson, clear the\n",
    "workspace set up some vectors and a $5\\times5$ array. These vectors and matrix will make it easy\n",
    "to determine which elements are selected by a command."
   ]
  },
  {
   "cell_type": "code",
   "execution_count": null,
   "metadata": {},
   "outputs": [],
   "source": []
  },
  {
   "cell_type": "markdown",
   "metadata": {
    "collapsed": false
   },
   "source": [
    "\n",
    "## Zero-based indexing\n",
    "Python indexing is 0 based so that the first element has position `0`, the second has position `1` and \n",
    "so on until the last element has position `n-1` in an array that contains `n` elements in total.\n",
    "\n",
    "## Problem: Picking an Element out of a Matrix\n",
    "1. Select the third element of all three, x, y and z. \n",
    "2. Select the 11$^{\\text{th}}$ element of x.\n",
    "3. Using double index notation, select the (0,2) and the (2,0) element of x.\n",
    "\n",
    "**Issues to ponder**\n",
    "\n",
    "* Which index is rows and which index is columns?\n",
    "* Does NumPy count across first then down or down first then across? "
   ]
  },
  {
   "cell_type": "code",
   "execution_count": null,
   "metadata": {},
   "outputs": [],
   "source": []
  },
  {
   "cell_type": "code",
   "execution_count": null,
   "metadata": {},
   "outputs": [],
   "source": []
  },
  {
   "cell_type": "code",
   "execution_count": null,
   "metadata": {},
   "outputs": [],
   "source": []
  },
  {
   "cell_type": "code",
   "execution_count": null,
   "metadata": {},
   "outputs": [],
   "source": []
  },
  {
   "cell_type": "markdown",
   "metadata": {
    "collapsed": false
   },
   "source": [
    "## Problem: Selecting Entire Rows\n",
    "1. Select the 2nd row of x using the colon (:) operator.\n",
    "2. Select the 2nd element of z and y using the same syntax.\n",
    "\n",
    "**Issues to ponder**\n",
    "\n",
    "* What happens to the output in each case? \n"
   ]
  },
  {
   "cell_type": "code",
   "execution_count": null,
   "metadata": {},
   "outputs": [],
   "source": []
  },
  {
   "cell_type": "markdown",
   "metadata": {
    "collapsed": false
   },
   "source": [
    "## Problem: Selecting Entire Columns\n",
    "Select the 2nd column of x using the colon (:) operator. "
   ]
  },
  {
   "cell_type": "code",
   "execution_count": null,
   "metadata": {},
   "outputs": [],
   "source": []
  },
  {
   "cell_type": "code",
   "execution_count": null,
   "metadata": {},
   "outputs": [],
   "source": []
  },
  {
   "cell_type": "markdown",
   "metadata": {
    "collapsed": false
   },
   "source": [
    "## Problem: Selecting Specific Rows or Columns\n",
    "1. Select the 2nd and 3rd columns of x using the colon (:) operator.\n",
    "2. Select the 2nd and 4th rows of x. \n",
    "3. Combine these be combined to select columns 2 and 3 and rows 2 and 4. "
   ]
  },
  {
   "cell_type": "code",
   "execution_count": null,
   "metadata": {},
   "outputs": [],
   "source": []
  },
  {
   "cell_type": "code",
   "execution_count": null,
   "metadata": {},
   "outputs": [],
   "source": []
  },
  {
   "cell_type": "code",
   "execution_count": null,
   "metadata": {},
   "outputs": [],
   "source": []
  },
  {
   "cell_type": "markdown",
   "metadata": {
    "collapsed": false
   },
   "source": [
    "## Problem: Use `ix_` to select arbitrary rows and columns\n",
    "Use `ix_` to select the 2nd and 4th rows and 1st and 3rd columns of `x`."
   ]
  },
  {
   "cell_type": "code",
   "execution_count": null,
   "metadata": {},
   "outputs": [],
   "source": []
  },
  {
   "cell_type": "code",
   "execution_count": null,
   "metadata": {},
   "outputs": [],
   "source": []
  },
  {
   "cell_type": "markdown",
   "metadata": {
    "collapsed": false
   },
   "source": [
    "## Problem: Numeric indexing Series and DataFrame\n",
    "Repeat the previous questions on `y_s` and `x_df` using `.iloc`.   "
   ]
  },
  {
   "cell_type": "code",
   "execution_count": null,
   "metadata": {},
   "outputs": [],
   "source": []
  },
  {
   "cell_type": "markdown",
   "metadata": {
    "collapsed": false
   },
   "source": [
    "## Problem: Selecting by Name in Series and DataFrames\n",
    "Using `x_name` and `y_name`:\n",
    "\n",
    "1. Select the (0,2) and the (2,0) element of `x_name`.\n",
    "2. Select the 2nd row of `x_name` using `.loc`.\n",
    "3. Select the 2nd columns of `x_name` using `.loc`.\n",
    "4. Select the 2nd element of `y_name` using both `[]` and `loc`.\n",
    "5. Select the 2nd and 4th rows and 1st and 3rd columns of `x_name`."
   ]
  },
  {
   "cell_type": "code",
   "execution_count": null,
   "metadata": {},
   "outputs": [],
   "source": []
  },
  {
   "cell_type": "code",
   "execution_count": null,
   "metadata": {},
   "outputs": [],
   "source": []
  },
  {
   "cell_type": "code",
   "execution_count": null,
   "metadata": {},
   "outputs": [],
   "source": []
  },
  {
   "cell_type": "code",
   "execution_count": null,
   "metadata": {},
   "outputs": [],
   "source": []
  },
  {
   "cell_type": "code",
   "execution_count": null,
   "metadata": {},
   "outputs": [],
   "source": []
  },
  {
   "cell_type": "code",
   "execution_count": null,
   "metadata": {},
   "outputs": [],
   "source": []
  },
  {
   "cell_type": "code",
   "execution_count": null,
   "metadata": {},
   "outputs": [],
   "source": []
  },
  {
   "cell_type": "markdown",
   "metadata": {
    "collapsed": false
   },
   "source": [
    "## Problem: Selecting Data by Date\n",
    "Load the data in momentum.csv."
   ]
  },
  {
   "cell_type": "code",
   "execution_count": 1,
   "metadata": {
    "pycharm": {
     "is_executing": false,
     "name": "#%%\n"
    }
   },
   "outputs": [
    {
     "data": {
      "text/html": [
       "<div>\n",
       "<style scoped>\n",
       "    .dataframe tbody tr th:only-of-type {\n",
       "        vertical-align: middle;\n",
       "    }\n",
       "\n",
       "    .dataframe tbody tr th {\n",
       "        vertical-align: top;\n",
       "    }\n",
       "\n",
       "    .dataframe thead th {\n",
       "        text-align: right;\n",
       "    }\n",
       "</style>\n",
       "<table border=\"1\" class=\"dataframe\">\n",
       "  <thead>\n",
       "    <tr style=\"text-align: right;\">\n",
       "      <th></th>\n",
       "      <th>mom_01</th>\n",
       "      <th>mom_02</th>\n",
       "      <th>mom_03</th>\n",
       "      <th>mom_04</th>\n",
       "      <th>mom_05</th>\n",
       "      <th>mom_06</th>\n",
       "      <th>mom_07</th>\n",
       "      <th>mom_08</th>\n",
       "      <th>mom_09</th>\n",
       "      <th>mom_10</th>\n",
       "    </tr>\n",
       "    <tr>\n",
       "      <th>date</th>\n",
       "      <th></th>\n",
       "      <th></th>\n",
       "      <th></th>\n",
       "      <th></th>\n",
       "      <th></th>\n",
       "      <th></th>\n",
       "      <th></th>\n",
       "      <th></th>\n",
       "      <th></th>\n",
       "      <th></th>\n",
       "    </tr>\n",
       "  </thead>\n",
       "  <tbody>\n",
       "    <tr>\n",
       "      <td>2016-01-04</td>\n",
       "      <td>0.67</td>\n",
       "      <td>-0.03</td>\n",
       "      <td>-0.93</td>\n",
       "      <td>-1.11</td>\n",
       "      <td>-1.47</td>\n",
       "      <td>-1.66</td>\n",
       "      <td>-1.40</td>\n",
       "      <td>-2.08</td>\n",
       "      <td>-1.71</td>\n",
       "      <td>-2.67</td>\n",
       "    </tr>\n",
       "    <tr>\n",
       "      <td>2016-01-05</td>\n",
       "      <td>-0.36</td>\n",
       "      <td>0.20</td>\n",
       "      <td>-0.37</td>\n",
       "      <td>0.28</td>\n",
       "      <td>0.16</td>\n",
       "      <td>0.18</td>\n",
       "      <td>-0.22</td>\n",
       "      <td>0.25</td>\n",
       "      <td>0.29</td>\n",
       "      <td>0.13</td>\n",
       "    </tr>\n",
       "    <tr>\n",
       "      <td>2016-01-06</td>\n",
       "      <td>-4.97</td>\n",
       "      <td>-2.33</td>\n",
       "      <td>-2.60</td>\n",
       "      <td>-1.16</td>\n",
       "      <td>-1.70</td>\n",
       "      <td>-1.45</td>\n",
       "      <td>-1.15</td>\n",
       "      <td>-1.46</td>\n",
       "      <td>-1.14</td>\n",
       "      <td>-0.45</td>\n",
       "    </tr>\n",
       "    <tr>\n",
       "      <td>2016-01-07</td>\n",
       "      <td>-4.91</td>\n",
       "      <td>-1.91</td>\n",
       "      <td>-3.03</td>\n",
       "      <td>-1.87</td>\n",
       "      <td>-2.31</td>\n",
       "      <td>-2.30</td>\n",
       "      <td>-2.70</td>\n",
       "      <td>-2.31</td>\n",
       "      <td>-2.36</td>\n",
       "      <td>-2.66</td>\n",
       "    </tr>\n",
       "    <tr>\n",
       "      <td>2016-01-08</td>\n",
       "      <td>-0.40</td>\n",
       "      <td>-1.26</td>\n",
       "      <td>-0.98</td>\n",
       "      <td>-1.26</td>\n",
       "      <td>-1.13</td>\n",
       "      <td>-1.02</td>\n",
       "      <td>-0.96</td>\n",
       "      <td>-1.42</td>\n",
       "      <td>-0.94</td>\n",
       "      <td>-1.32</td>\n",
       "    </tr>\n",
       "  </tbody>\n",
       "</table>\n",
       "</div>"
      ],
      "text/plain": [
       "            mom_01  mom_02  mom_03  mom_04  mom_05  mom_06  mom_07  mom_08  \\\n",
       "date                                                                         \n",
       "2016-01-04    0.67   -0.03   -0.93   -1.11   -1.47   -1.66   -1.40   -2.08   \n",
       "2016-01-05   -0.36    0.20   -0.37    0.28    0.16    0.18   -0.22    0.25   \n",
       "2016-01-06   -4.97   -2.33   -2.60   -1.16   -1.70   -1.45   -1.15   -1.46   \n",
       "2016-01-07   -4.91   -1.91   -3.03   -1.87   -2.31   -2.30   -2.70   -2.31   \n",
       "2016-01-08   -0.40   -1.26   -0.98   -1.26   -1.13   -1.02   -0.96   -1.42   \n",
       "\n",
       "            mom_09  mom_10  \n",
       "date                        \n",
       "2016-01-04   -1.71   -2.67  \n",
       "2016-01-05    0.29    0.13  \n",
       "2016-01-06   -1.14   -0.45  \n",
       "2016-01-07   -2.36   -2.66  \n",
       "2016-01-08   -0.94   -1.32  "
      ]
     },
     "execution_count": 1,
     "metadata": {},
     "output_type": "execute_result"
    }
   ],
   "source": [
    "# Setup: Load the momentum data\n",
    "\n",
    "import pandas as pd\n",
    "\n",
    "momentum = pd.read_csv('data/momentum.csv', index_col='date', parse_dates=True)\n",
    "momentum.head()"
   ]
  },
  {
   "cell_type": "markdown",
   "metadata": {
    "collapsed": false,
    "pycharm": {
     "name": "#%% md\n"
    }
   },
   "source": [
    "1. Select returns on a February 16, 2016.\n",
    "2. Select return in March 2016.\n",
    "3. Select returns between May 1, 2016 and June 15, 2016"
   ]
  },
  {
   "cell_type": "code",
   "execution_count": null,
   "metadata": {},
   "outputs": [],
   "source": []
  },
  {
   "cell_type": "code",
   "execution_count": null,
   "metadata": {},
   "outputs": [],
   "source": []
  },
  {
   "cell_type": "code",
   "execution_count": null,
   "metadata": {},
   "outputs": [],
   "source": []
  }
 ],
 "metadata": {
  "kernelspec": {
   "display_name": "Python 3",
   "language": "python",
   "name": "python3"
  },
  "language_info": {
   "codemirror_mode": {
    "name": "ipython",
    "version": 3
   },
   "file_extension": ".py",
   "mimetype": "text/x-python",
   "name": "python",
   "nbconvert_exporter": "python",
   "pygments_lexer": "ipython3",
   "version": "3.7.4"
  },
  "nikola": {
   "category": "teaching",
   "date": "2019-09-04 17:18:32 UTC+01:00",
   "description": "",
   "link": "",
   "slug": "lesson-5",
   "tags": "",
   "title": "Lesson 5",
   "type": "text"
  },
  "pycharm": {
   "stem_cell": {
    "cell_type": "raw",
    "metadata": {
     "collapsed": false
    },
    "source": []
   }
  }
 },
 "nbformat": 4,
 "nbformat_minor": 0
}
