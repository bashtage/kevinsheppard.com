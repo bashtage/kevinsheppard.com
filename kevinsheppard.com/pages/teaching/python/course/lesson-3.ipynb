{
 "cells": [
  {
   "cell_type": "markdown",
   "metadata": {
    "collapsed": false
   },
   "source": [
    "# Basic Python Types\n",
    "\n",
    "This lesson covers:\n",
    "\n",
    "* Inputting scalars and strings\n",
    "* Lists\n",
    "* Dictionaries\n"
   ]
  },
  {
   "cell_type": "markdown",
   "metadata": {
    "collapsed": false
   },
   "source": [
    "## Problem: Input scalar floating point and integers\n",
    "\n",
    "1. Create a variable called `scalar_float` containing $\\pi$ to 4 digits.\n",
    "2. Create a variable called `scalar_int` containing 31415. \n",
    "3. Print each value using the `print` function.   "
   ]
  },
  {
   "cell_type": "code",
   "execution_count": null,
   "metadata": {},
   "outputs": [],
   "source": []
  },
  {
   "cell_type": "markdown",
   "metadata": {
    "collapsed": false
   },
   "source": [
    "## Problem: Create a string and an f-string\n",
    "\n",
    "1. Create a variable called `a_string` containing `This is a string`\n",
    "2. Create a f-string the prints `The value of scalar_float is 3.1415` using\n",
    "   the variable created in the previous step\n",
    "3. Create two string, `first` containing `String concatenation` and the second containing\n",
    "   ` is like addition`, and join the two using `+` to produce\n",
    "   `String concatenation is like addition`. "
   ]
  },
  {
   "cell_type": "code",
   "execution_count": null,
   "metadata": {},
   "outputs": [],
   "source": []
  },
  {
   "cell_type": "markdown",
   "metadata": {
    "collapsed": false
   },
   "source": [
    "## Problem: Create a list\n",
    "\n",
    "1. Create a list containing `scalar_float` and `scalar_int`\n",
    "2. Add `a_string` to the list.\n",
    "3. Select the the lst two elements of the list"
   ]
  },
  {
   "cell_type": "code",
   "execution_count": null,
   "metadata": {},
   "outputs": [],
   "source": []
  },
  {
   "cell_type": "markdown",
   "metadata": {
    "collapsed": false
   },
   "source": [
    "## Problem: Create a list of lists\n",
    "\n",
    "1. Create a list containing the two lists `[1, 2, 3]` and `[4, 5, 6]`\n",
    "2. Select the element 5 from the nested list"
   ]
  },
  {
   "cell_type": "code",
   "execution_count": null,
   "metadata": {},
   "outputs": [],
   "source": []
  },
  {
   "cell_type": "markdown",
   "metadata": {
    "collapsed": false
   },
   "source": [
    "## Problem: Create a dictionary\n",
    "\n",
    "1. Create a dictionary containing the key-value pairs `\"float\"` and 3.1415, `\"int\"` and 31415,\n",
    "   and `\"string\"` and `\"three-point-one-four-one-five\"`."
   ]
  },
  {
   "cell_type": "code",
   "execution_count": null,
   "metadata": {},
   "outputs": [],
   "source": []
  },
  {
   "cell_type": "markdown",
   "metadata": {
    "collapsed": false
   },
   "source": [
    "## Problem: Lookup and Change a value\n",
    "\n",
    "1. Look up the value of `\"float\"`.\n",
    "2. Change the value of `\"float\"` to `22 / 7`."
   ]
  },
  {
   "cell_type": "code",
   "execution_count": null,
   "metadata": {},
   "outputs": [],
   "source": []
  },
  {
   "cell_type": "markdown",
   "metadata": {
    "collapsed": false
   },
   "source": [
    "## Problem: Add and remove a key \n",
    "\n",
    "1. Add the new key \"better_float\" with the value 3.141592.\n",
    "2. Remove the key \"float\" and its value."
   ]
  },
  {
   "cell_type": "code",
   "execution_count": null,
   "metadata": {},
   "outputs": [],
   "source": []
  }
 ],
 "metadata": {
  "kernelspec": {
   "display_name": "Python 3",
   "language": "python",
   "name": "python3"
  },
  "language_info": {
   "codemirror_mode": {
    "name": "ipython",
    "version": 3
   },
   "file_extension": ".py",
   "mimetype": "text/x-python",
   "name": "python",
   "nbconvert_exporter": "python",
   "pygments_lexer": "ipython3",
   "version": "3.7.4"
  },
  "nikola": {
   "category": "teaching",
   "date": "2019-09-04 17:18:32 UTC+01:00",
   "description": "",
   "link": "",
   "slug": "lesson-3",
   "tags": "",
   "title": "Lesson 3",
   "type": "text"
  },
  "pycharm": {
   "stem_cell": {
    "cell_type": "raw",
    "metadata": {
     "collapsed": false
    },
    "source": [
     "\n"
    ]
   }
  }
 },
 "nbformat": 4,
 "nbformat_minor": 1
}
