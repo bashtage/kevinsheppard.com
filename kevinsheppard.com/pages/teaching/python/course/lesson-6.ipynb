{
 "cells": [
  {
   "cell_type": "markdown",
   "metadata": {
    "collapsed": false
   },
   "source": [
    "# Series and DataFrames\n",
    "\n",
    "This lesson covers:\n",
    "\n",
    "* Manually inputting data in scalars, vectors, and matrices \n",
    "* Basic mathematical operations \n",
    "* Saving and loading data \n",
    "\n",
    "<a id=\"stock-data\"></a>\n",
    "## Data\n",
    "September 2018 prices (adjusted closing prices) for the S&P 500 EFT (SPY), Apple (AAPL) and \n",
    "Google (GOOG) are listed below:\n",
    "\n",
    "\n",
    "\n",
    "| Date   | SPY Price | AAPL Price | GOOG Price | \n",
    "|:-------|----------:|-----------:|-----------:| \n",
    "| Sept4  | 289.81    | 228.36     | 1197.00    | \n",
    "| Sept5  | 289.03    | 226.87     | 1186.48    | \n",
    "| Sept6  | 288.16    | 223.10     | 1171.44    | \n",
    "| Sept7  | 287.60    | 221.30     | 1164.83    | \n",
    "| Sept10 | 288.10    | 218.33     | 1164.64    | \n",
    "| Sept11 | 289.05    | 223.85     | 1177.36    | \n",
    "| Sept12 | 289.12    | 221.07     | 1162.82    | \n",
    "| Sept13 | 290.83    | 226.41     | 1175.33    | \n",
    "| Sept14 | 290.88    | 223.84     | 1172.53    | \n",
    "| Sept17 | 289.34    | 217.88     | 1156.05    | \n",
    "| Sept18 | 290.91    | 218.24     | 1161.22    | \n",
    "| Sept19 | 291.44    | 216.64     | 1158.78    | \n",
    "\n",
    "**Prices in September 2018**\n",
    " "
   ]
  },
  {
   "cell_type": "markdown",
   "metadata": {
    "collapsed": false
   },
   "source": [
    "## Problem: Input scalar data\n",
    "\n",
    "Create 3 variables, one labeled `spy`, one labeled `aapl` and one labeled `goog` that contain the\n",
    "September 4 price of the asset. For example, to enter the Google data\n",
    "```python\n",
    "goog = 1197.00\n",
    "```"
   ]
  },
  {
   "cell_type": "code",
   "execution_count": null,
   "metadata": {},
   "outputs": [],
   "source": []
  },
  {
   "cell_type": "markdown",
   "metadata": {
    "collapsed": false
   },
   "source": [
    "## Problem: Print the values\n",
    "Print the values of the three variables you created in the previous step using `print`."
   ]
  },
  {
   "cell_type": "code",
   "execution_count": null,
   "metadata": {},
   "outputs": [],
   "source": []
  },
  {
   "cell_type": "markdown",
   "metadata": {
    "collapsed": false
   },
   "source": [
    "## Problem: Print the values with formatting\n",
    "Print the values of the three variables you created in the previous step using format strings following\n",
    "the pattern TICKER: Value. For example, you can print the value of Google using `print(f'GOOG: {goog}')`."
   ]
  },
  {
   "cell_type": "code",
   "execution_count": null,
   "metadata": {},
   "outputs": [],
   "source": []
  },
  {
   "cell_type": "markdown",
   "metadata": {
    "collapsed": false
   },
   "source": [
    "## Problem: Input a Vector\n",
    "\n",
    "Create vectors for each of the days in the [Table](#stock-data) named `sep_xx` where `xx` is the \n",
    "numeric date. For example,  \n",
    "```python\n",
    "import pandas as pd\n",
    "\n",
    "sep_04 = pd.Series([289.81,228.36,1197.00], index=['SPY','AAPL','GOOG']);\n",
    "```"
   ]
  },
  {
   "cell_type": "code",
   "execution_count": null,
   "metadata": {},
   "outputs": [],
   "source": []
  },
  {
   "cell_type": "markdown",
   "metadata": {
    "collapsed": false
   },
   "source": [
    "## Problem: Create a Vector of Dates\n",
    "\n",
    "Use the pandas function `pd.to_datetime` to convert a list of string dates to a pandas \n",
    "`DateTimeIndex`, which can be used to set dates in other arrays. For example, the first two dates \n",
    "are\n",
    "```python\n",
    "dates_2 = pd.to_datetime(['4-9-2018','5-9-2018'])\n",
    "print(dates_2)\n",
    "```\n",
    "which produces\n",
    "```python\n",
    "DatetimeIndex(['2018-04-09', '2018-05-09'], dtype='datetime64[ns]', freq=None)\n",
    "```\n",
    "\n",
    "Create a vector containing all of the dates in the table."
   ]
  },
  {
   "cell_type": "code",
   "execution_count": null,
   "metadata": {},
   "outputs": [],
   "source": []
  },
  {
   "cell_type": "markdown",
   "metadata": {
    "collapsed": false
   },
   "source": [
    "## Problem: Input a Vector with Dates\n",
    "\n",
    "Create vectors for each of the ticker symbols in [Table](#stock-data) named spy, aapl and \n",
    "goog, respectively. Use the variable `dates` that you created in the previous step. \n",
    "\n",
    "For example\n",
    "\n",
    "```python\n",
    "goog = pd.Series([1197.00,1186.48,1171.44,...], index=dates)\n",
    "```"
   ]
  },
  {
   "cell_type": "code",
   "execution_count": null,
   "metadata": {},
   "outputs": [],
   "source": []
  },
  {
   "cell_type": "markdown",
   "metadata": {
    "collapsed": false
   },
   "source": [
    "## Problem: Create a DataFrame\n",
    "\n",
    "Create a DataFrame named `prices` containing [Table](#stock-data). Set the column names equal to \n",
    "the ticker and set the index to the dates you created previously.\n",
    "\n",
    "```python\n",
    "prices = pd.DataFrame([[289.81, 228.36, 1197.00], [289.03, 226.87, 1186.48]],\n",
    "                      columns = ['SPY', 'AAPL', 'GOOG'],index=dates_2)\n",
    "```"
   ]
  },
  {
   "cell_type": "code",
   "execution_count": null,
   "metadata": {},
   "outputs": [],
   "source": []
  },
  {
   "cell_type": "markdown",
   "metadata": {
    "collapsed": false
   },
   "source": [
    "## Problem: Construct a DataFrame from Series\n",
    "\n",
    "Create a second DataFrame named prices_row from the row vectors previously entered such that \n",
    "the results are identical to prices. For example, the first two days worth of data are\n",
    "\n",
    "```python\n",
    "pricess_row = pd.DataFrame([Sep04, Sep05])\n",
    "# Set the index after using concat to join\n",
    "pricess_row.index = dates_2\n",
    "```\n",
    "\n",
    "Create a third DataFrame named prices_col from the 3 column vectors entered such that the results \n",
    "are identical to prices\n",
    "```python\n",
    "prices_col = pd.DataFrame([SPY,APPL,GOOG]).T\n",
    "```\n",
    "\n",
    "*Note*: The `.T` above transposes the 2-d array since `DataFrame` builds the array by rows.\n",
    "\n",
    "Verify that all three matrices are identical by printing the difference, e.g., \n",
    "\n",
    "```python\n",
    "print(pricescol - prices)\n",
    "```\n",
    "\n",
    "and that all elements are 0. "
   ]
  },
  {
   "cell_type": "code",
   "execution_count": null,
   "metadata": {},
   "outputs": [],
   "source": []
  },
  {
   "cell_type": "markdown",
   "metadata": {
    "collapsed": false,
    "pycharm": {
     "name": "#%% md\n"
    }
   },
   "source": [
    "Save the price data\n",
    "\n",
    "This block saves prices to a HDF file for use in later lessons."
   ]
  },
  {
   "cell_type": "code",
   "execution_count": null,
   "metadata": {
    "pycharm": {
     "is_executing": false,
     "name": "#%%\n"
    }
   },
   "outputs": [],
   "source": [
    "# Setup: Save prices, goog and sep_04 into a single file for use in other lessons\n",
    "\n",
    "# Only run if prices has been defined\n",
    "if 'prices' in globals():\n",
    "    with pd.HDFStore('lesson-6.h5', mode='w') as h5:\n",
    "        h5.put('prices', prices)\n",
    "        h5.put('goog', goog)\n",
    "        h5.put('sep_04', sep_04)"
   ]
  }
 ],
 "metadata": {
  "kernelspec": {
   "display_name": "Python 3",
   "language": "python",
   "name": "python3"
  },
  "language_info": {
   "codemirror_mode": {
    "name": "ipython",
    "version": 3
   },
   "file_extension": ".py",
   "mimetype": "text/x-python",
   "name": "python",
   "nbconvert_exporter": "python",
   "pygments_lexer": "ipython3",
   "version": "3.7.4"
  },
  "nikola": {
   "category": "teaching",
   "date": "2019-09-04 17:18:32 UTC+01:00",
   "description": "",
   "link": "",
   "slug": "lesson-6",
   "tags": "",
   "title": "Lesson 6",
   "type": "text"
  },
  "pycharm": {
   "stem_cell": {
    "cell_type": "raw",
    "metadata": {
     "collapsed": false
    },
    "source": []
   }
  }
 },
 "nbformat": 4,
 "nbformat_minor": 1
}
